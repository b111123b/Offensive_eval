{
 "cells": [
  {
   "cell_type": "markdown",
   "metadata": {},
   "source": [
    "# OffensiveEval NB initial work\n",
    "So the work im gonna do in this notebook is just exploritory and is mostly about getting to grips with the data set and juypyter\n",
    "\n",
    "So the things im going to try and do in this notebook:\n",
    "* load in the dataset\n",
    "* turn the dataset into a document term matrix (dtm)\n",
    "* train a naive bayes model and evaluate results\n",
    "\n",
    "After i get these things done i'll try to:\n",
    "* test out some other models\n",
    "* experiment with basic tuning for models and vectorizer\n",
    "* get some graphs into the notebook to compare models\n",
    "* explore how models work more to understand how to make more accurate\n",
    "\n",
    "## Part 1"
   ]
  },
  {
   "cell_type": "code",
   "execution_count": 1,
   "metadata": {},
   "outputs": [],
   "source": [
    "from sklearn.feature_extraction.text import CountVectorizer\n",
    "import pandas as pd\n"
   ]
  },
  {
   "cell_type": "code",
   "execution_count": 2,
   "metadata": {},
   "outputs": [],
   "source": [
    "path = 'data/olid-training-v2.0.tsv'\n",
    "testset = pd.read_table(path, header=None, names=['id','tweet','sub_a','sub_b','sub_c'])\n",
    "path = 'data/testset-levela_noheader.tsv'\n",
    "testseta = pd.read_table(path, header=None, names=['id','tweet'])\n",
    "labelsa = pd.read_csv('data/labels-levela.csv',header=None, names=['id','sub_a'])"
   ]
  },
  {
   "cell_type": "code",
   "execution_count": 3,
   "metadata": {},
   "outputs": [
    {
     "data": {
      "text/html": [
       "<div>\n",
       "<style scoped>\n",
       "    .dataframe tbody tr th:only-of-type {\n",
       "        vertical-align: middle;\n",
       "    }\n",
       "\n",
       "    .dataframe tbody tr th {\n",
       "        vertical-align: top;\n",
       "    }\n",
       "\n",
       "    .dataframe thead th {\n",
       "        text-align: right;\n",
       "    }\n",
       "</style>\n",
       "<table border=\"1\" class=\"dataframe\">\n",
       "  <thead>\n",
       "    <tr style=\"text-align: right;\">\n",
       "      <th></th>\n",
       "      <th>id</th>\n",
       "      <th>tweet</th>\n",
       "      <th>sub_a</th>\n",
       "      <th>sub_b</th>\n",
       "      <th>sub_c</th>\n",
       "    </tr>\n",
       "  </thead>\n",
       "  <tbody>\n",
       "    <tr>\n",
       "      <th>0</th>\n",
       "      <td>86426</td>\n",
       "      <td>@USER She should ask a few native Americans wh...</td>\n",
       "      <td>OFF</td>\n",
       "      <td>UNT</td>\n",
       "      <td>NaN</td>\n",
       "    </tr>\n",
       "    <tr>\n",
       "      <th>1</th>\n",
       "      <td>90194</td>\n",
       "      <td>@USER @USER Go home you’re drunk!!! @USER #MAG...</td>\n",
       "      <td>OFF</td>\n",
       "      <td>TIN</td>\n",
       "      <td>IND</td>\n",
       "    </tr>\n",
       "    <tr>\n",
       "      <th>2</th>\n",
       "      <td>16820</td>\n",
       "      <td>Amazon is investigating Chinese employees who ...</td>\n",
       "      <td>NOT</td>\n",
       "      <td>NaN</td>\n",
       "      <td>NaN</td>\n",
       "    </tr>\n",
       "    <tr>\n",
       "      <th>3</th>\n",
       "      <td>62688</td>\n",
       "      <td>@USER Someone should'veTaken\" this piece of sh...</td>\n",
       "      <td>OFF</td>\n",
       "      <td>UNT</td>\n",
       "      <td>NaN</td>\n",
       "    </tr>\n",
       "    <tr>\n",
       "      <th>4</th>\n",
       "      <td>43605</td>\n",
       "      <td>@USER @USER Obama wanted liberals &amp;amp; illega...</td>\n",
       "      <td>NOT</td>\n",
       "      <td>NaN</td>\n",
       "      <td>NaN</td>\n",
       "    </tr>\n",
       "  </tbody>\n",
       "</table>\n",
       "</div>"
      ],
      "text/plain": [
       "      id                                              tweet sub_a sub_b sub_c\n",
       "0  86426  @USER She should ask a few native Americans wh...   OFF   UNT   NaN\n",
       "1  90194  @USER @USER Go home you’re drunk!!! @USER #MAG...   OFF   TIN   IND\n",
       "2  16820  Amazon is investigating Chinese employees who ...   NOT   NaN   NaN\n",
       "3  62688  @USER Someone should'veTaken\" this piece of sh...   OFF   UNT   NaN\n",
       "4  43605  @USER @USER Obama wanted liberals &amp; illega...   NOT   NaN   NaN"
      ]
     },
     "execution_count": 3,
     "metadata": {},
     "output_type": "execute_result"
    }
   ],
   "source": [
    "testset.head(5)"
   ]
  },
  {
   "cell_type": "code",
   "execution_count": 4,
   "metadata": {},
   "outputs": [
    {
     "data": {
      "text/plain": [
       "NOT    8840\n",
       "OFF    4400\n",
       "Name: sub_a, dtype: int64"
      ]
     },
     "execution_count": 4,
     "metadata": {},
     "output_type": "execute_result"
    }
   ],
   "source": [
    "testset.sub_a.value_counts()"
   ]
  },
  {
   "cell_type": "code",
   "execution_count": 5,
   "metadata": {},
   "outputs": [],
   "source": [
    "testset['label_a_num'] = testset.sub_a.map({'NOT':0, 'OFF':1})"
   ]
  },
  {
   "cell_type": "code",
   "execution_count": 6,
   "metadata": {},
   "outputs": [
    {
     "data": {
      "text/html": [
       "<div>\n",
       "<style scoped>\n",
       "    .dataframe tbody tr th:only-of-type {\n",
       "        vertical-align: middle;\n",
       "    }\n",
       "\n",
       "    .dataframe tbody tr th {\n",
       "        vertical-align: top;\n",
       "    }\n",
       "\n",
       "    .dataframe thead th {\n",
       "        text-align: right;\n",
       "    }\n",
       "</style>\n",
       "<table border=\"1\" class=\"dataframe\">\n",
       "  <thead>\n",
       "    <tr style=\"text-align: right;\">\n",
       "      <th></th>\n",
       "      <th>id</th>\n",
       "      <th>sub_a</th>\n",
       "    </tr>\n",
       "  </thead>\n",
       "  <tbody>\n",
       "    <tr>\n",
       "      <th>0</th>\n",
       "      <td>15923</td>\n",
       "      <td>OFF</td>\n",
       "    </tr>\n",
       "    <tr>\n",
       "      <th>1</th>\n",
       "      <td>27014</td>\n",
       "      <td>NOT</td>\n",
       "    </tr>\n",
       "    <tr>\n",
       "      <th>2</th>\n",
       "      <td>30530</td>\n",
       "      <td>NOT</td>\n",
       "    </tr>\n",
       "    <tr>\n",
       "      <th>3</th>\n",
       "      <td>13876</td>\n",
       "      <td>NOT</td>\n",
       "    </tr>\n",
       "    <tr>\n",
       "      <th>4</th>\n",
       "      <td>60133</td>\n",
       "      <td>OFF</td>\n",
       "    </tr>\n",
       "    <tr>\n",
       "      <th>...</th>\n",
       "      <td>...</td>\n",
       "      <td>...</td>\n",
       "    </tr>\n",
       "    <tr>\n",
       "      <th>855</th>\n",
       "      <td>73439</td>\n",
       "      <td>OFF</td>\n",
       "    </tr>\n",
       "    <tr>\n",
       "      <th>856</th>\n",
       "      <td>25657</td>\n",
       "      <td>NOT</td>\n",
       "    </tr>\n",
       "    <tr>\n",
       "      <th>857</th>\n",
       "      <td>67018</td>\n",
       "      <td>OFF</td>\n",
       "    </tr>\n",
       "    <tr>\n",
       "      <th>858</th>\n",
       "      <td>50665</td>\n",
       "      <td>NOT</td>\n",
       "    </tr>\n",
       "    <tr>\n",
       "      <th>859</th>\n",
       "      <td>24583</td>\n",
       "      <td>NOT</td>\n",
       "    </tr>\n",
       "  </tbody>\n",
       "</table>\n",
       "<p>860 rows × 2 columns</p>\n",
       "</div>"
      ],
      "text/plain": [
       "        id sub_a\n",
       "0    15923   OFF\n",
       "1    27014   NOT\n",
       "2    30530   NOT\n",
       "3    13876   NOT\n",
       "4    60133   OFF\n",
       "..     ...   ...\n",
       "855  73439   OFF\n",
       "856  25657   NOT\n",
       "857  67018   OFF\n",
       "858  50665   NOT\n",
       "859  24583   NOT\n",
       "\n",
       "[860 rows x 2 columns]"
      ]
     },
     "execution_count": 6,
     "metadata": {},
     "output_type": "execute_result"
    }
   ],
   "source": [
    "labelsa"
   ]
  },
  {
   "cell_type": "code",
   "execution_count": 7,
   "metadata": {},
   "outputs": [],
   "source": [
    "labelsa['label_a_num'] = labelsa.sub_a.map({'NOT':0, 'OFF':1})"
   ]
  },
  {
   "cell_type": "code",
   "execution_count": 8,
   "metadata": {},
   "outputs": [
    {
     "data": {
      "text/html": [
       "<div>\n",
       "<style scoped>\n",
       "    .dataframe tbody tr th:only-of-type {\n",
       "        vertical-align: middle;\n",
       "    }\n",
       "\n",
       "    .dataframe tbody tr th {\n",
       "        vertical-align: top;\n",
       "    }\n",
       "\n",
       "    .dataframe thead th {\n",
       "        text-align: right;\n",
       "    }\n",
       "</style>\n",
       "<table border=\"1\" class=\"dataframe\">\n",
       "  <thead>\n",
       "    <tr style=\"text-align: right;\">\n",
       "      <th></th>\n",
       "      <th>id</th>\n",
       "      <th>sub_a</th>\n",
       "      <th>label_a_num</th>\n",
       "    </tr>\n",
       "  </thead>\n",
       "  <tbody>\n",
       "    <tr>\n",
       "      <th>0</th>\n",
       "      <td>15923</td>\n",
       "      <td>OFF</td>\n",
       "      <td>1</td>\n",
       "    </tr>\n",
       "    <tr>\n",
       "      <th>1</th>\n",
       "      <td>27014</td>\n",
       "      <td>NOT</td>\n",
       "      <td>0</td>\n",
       "    </tr>\n",
       "    <tr>\n",
       "      <th>2</th>\n",
       "      <td>30530</td>\n",
       "      <td>NOT</td>\n",
       "      <td>0</td>\n",
       "    </tr>\n",
       "    <tr>\n",
       "      <th>3</th>\n",
       "      <td>13876</td>\n",
       "      <td>NOT</td>\n",
       "      <td>0</td>\n",
       "    </tr>\n",
       "    <tr>\n",
       "      <th>4</th>\n",
       "      <td>60133</td>\n",
       "      <td>OFF</td>\n",
       "      <td>1</td>\n",
       "    </tr>\n",
       "    <tr>\n",
       "      <th>...</th>\n",
       "      <td>...</td>\n",
       "      <td>...</td>\n",
       "      <td>...</td>\n",
       "    </tr>\n",
       "    <tr>\n",
       "      <th>855</th>\n",
       "      <td>73439</td>\n",
       "      <td>OFF</td>\n",
       "      <td>1</td>\n",
       "    </tr>\n",
       "    <tr>\n",
       "      <th>856</th>\n",
       "      <td>25657</td>\n",
       "      <td>NOT</td>\n",
       "      <td>0</td>\n",
       "    </tr>\n",
       "    <tr>\n",
       "      <th>857</th>\n",
       "      <td>67018</td>\n",
       "      <td>OFF</td>\n",
       "      <td>1</td>\n",
       "    </tr>\n",
       "    <tr>\n",
       "      <th>858</th>\n",
       "      <td>50665</td>\n",
       "      <td>NOT</td>\n",
       "      <td>0</td>\n",
       "    </tr>\n",
       "    <tr>\n",
       "      <th>859</th>\n",
       "      <td>24583</td>\n",
       "      <td>NOT</td>\n",
       "      <td>0</td>\n",
       "    </tr>\n",
       "  </tbody>\n",
       "</table>\n",
       "<p>860 rows × 3 columns</p>\n",
       "</div>"
      ],
      "text/plain": [
       "        id sub_a  label_a_num\n",
       "0    15923   OFF            1\n",
       "1    27014   NOT            0\n",
       "2    30530   NOT            0\n",
       "3    13876   NOT            0\n",
       "4    60133   OFF            1\n",
       "..     ...   ...          ...\n",
       "855  73439   OFF            1\n",
       "856  25657   NOT            0\n",
       "857  67018   OFF            1\n",
       "858  50665   NOT            0\n",
       "859  24583   NOT            0\n",
       "\n",
       "[860 rows x 3 columns]"
      ]
     },
     "execution_count": 8,
     "metadata": {},
     "output_type": "execute_result"
    }
   ],
   "source": [
    "labelsa"
   ]
  },
  {
   "cell_type": "code",
   "execution_count": 9,
   "metadata": {},
   "outputs": [
    {
     "data": {
      "text/html": [
       "<div>\n",
       "<style scoped>\n",
       "    .dataframe tbody tr th:only-of-type {\n",
       "        vertical-align: middle;\n",
       "    }\n",
       "\n",
       "    .dataframe tbody tr th {\n",
       "        vertical-align: top;\n",
       "    }\n",
       "\n",
       "    .dataframe thead th {\n",
       "        text-align: right;\n",
       "    }\n",
       "</style>\n",
       "<table border=\"1\" class=\"dataframe\">\n",
       "  <thead>\n",
       "    <tr style=\"text-align: right;\">\n",
       "      <th></th>\n",
       "      <th>id</th>\n",
       "      <th>tweet</th>\n",
       "      <th>sub_a</th>\n",
       "      <th>sub_b</th>\n",
       "      <th>sub_c</th>\n",
       "      <th>label_a_num</th>\n",
       "    </tr>\n",
       "  </thead>\n",
       "  <tbody>\n",
       "    <tr>\n",
       "      <th>0</th>\n",
       "      <td>86426</td>\n",
       "      <td>@USER She should ask a few native Americans wh...</td>\n",
       "      <td>OFF</td>\n",
       "      <td>UNT</td>\n",
       "      <td>NaN</td>\n",
       "      <td>1</td>\n",
       "    </tr>\n",
       "    <tr>\n",
       "      <th>1</th>\n",
       "      <td>90194</td>\n",
       "      <td>@USER @USER Go home you’re drunk!!! @USER #MAG...</td>\n",
       "      <td>OFF</td>\n",
       "      <td>TIN</td>\n",
       "      <td>IND</td>\n",
       "      <td>1</td>\n",
       "    </tr>\n",
       "    <tr>\n",
       "      <th>2</th>\n",
       "      <td>16820</td>\n",
       "      <td>Amazon is investigating Chinese employees who ...</td>\n",
       "      <td>NOT</td>\n",
       "      <td>NaN</td>\n",
       "      <td>NaN</td>\n",
       "      <td>0</td>\n",
       "    </tr>\n",
       "    <tr>\n",
       "      <th>3</th>\n",
       "      <td>62688</td>\n",
       "      <td>@USER Someone should'veTaken\" this piece of sh...</td>\n",
       "      <td>OFF</td>\n",
       "      <td>UNT</td>\n",
       "      <td>NaN</td>\n",
       "      <td>1</td>\n",
       "    </tr>\n",
       "    <tr>\n",
       "      <th>4</th>\n",
       "      <td>43605</td>\n",
       "      <td>@USER @USER Obama wanted liberals &amp;amp; illega...</td>\n",
       "      <td>NOT</td>\n",
       "      <td>NaN</td>\n",
       "      <td>NaN</td>\n",
       "      <td>0</td>\n",
       "    </tr>\n",
       "    <tr>\n",
       "      <th>5</th>\n",
       "      <td>97670</td>\n",
       "      <td>@USER Liberals are all Kookoo !!!</td>\n",
       "      <td>OFF</td>\n",
       "      <td>TIN</td>\n",
       "      <td>OTH</td>\n",
       "      <td>1</td>\n",
       "    </tr>\n",
       "    <tr>\n",
       "      <th>6</th>\n",
       "      <td>77444</td>\n",
       "      <td>@USER @USER Oh noes! Tough shit.</td>\n",
       "      <td>OFF</td>\n",
       "      <td>UNT</td>\n",
       "      <td>NaN</td>\n",
       "      <td>1</td>\n",
       "    </tr>\n",
       "    <tr>\n",
       "      <th>7</th>\n",
       "      <td>52415</td>\n",
       "      <td>@USER was literally just talking about this lo...</td>\n",
       "      <td>OFF</td>\n",
       "      <td>TIN</td>\n",
       "      <td>GRP</td>\n",
       "      <td>1</td>\n",
       "    </tr>\n",
       "    <tr>\n",
       "      <th>8</th>\n",
       "      <td>45157</td>\n",
       "      <td>@USER Buy more icecream!!!</td>\n",
       "      <td>NOT</td>\n",
       "      <td>NaN</td>\n",
       "      <td>NaN</td>\n",
       "      <td>0</td>\n",
       "    </tr>\n",
       "    <tr>\n",
       "      <th>9</th>\n",
       "      <td>13384</td>\n",
       "      <td>@USER Canada doesn’t need another CUCK! We alr...</td>\n",
       "      <td>OFF</td>\n",
       "      <td>TIN</td>\n",
       "      <td>IND</td>\n",
       "      <td>1</td>\n",
       "    </tr>\n",
       "  </tbody>\n",
       "</table>\n",
       "</div>"
      ],
      "text/plain": [
       "      id                                              tweet sub_a sub_b sub_c  \\\n",
       "0  86426  @USER She should ask a few native Americans wh...   OFF   UNT   NaN   \n",
       "1  90194  @USER @USER Go home you’re drunk!!! @USER #MAG...   OFF   TIN   IND   \n",
       "2  16820  Amazon is investigating Chinese employees who ...   NOT   NaN   NaN   \n",
       "3  62688  @USER Someone should'veTaken\" this piece of sh...   OFF   UNT   NaN   \n",
       "4  43605  @USER @USER Obama wanted liberals &amp; illega...   NOT   NaN   NaN   \n",
       "5  97670                  @USER Liberals are all Kookoo !!!   OFF   TIN   OTH   \n",
       "6  77444                   @USER @USER Oh noes! Tough shit.   OFF   UNT   NaN   \n",
       "7  52415  @USER was literally just talking about this lo...   OFF   TIN   GRP   \n",
       "8  45157                         @USER Buy more icecream!!!   NOT   NaN   NaN   \n",
       "9  13384  @USER Canada doesn’t need another CUCK! We alr...   OFF   TIN   IND   \n",
       "\n",
       "   label_a_num  \n",
       "0            1  \n",
       "1            1  \n",
       "2            0  \n",
       "3            1  \n",
       "4            0  \n",
       "5            1  \n",
       "6            1  \n",
       "7            1  \n",
       "8            0  \n",
       "9            1  "
      ]
     },
     "execution_count": 9,
     "metadata": {},
     "output_type": "execute_result"
    }
   ],
   "source": [
    "testset.head(10)"
   ]
  },
  {
   "cell_type": "code",
   "execution_count": 10,
   "metadata": {},
   "outputs": [
    {
     "name": "stdout",
     "output_type": "stream",
     "text": [
      "(13240,)\n",
      "(13240,)\n"
     ]
    }
   ],
   "source": [
    "x = testset.tweet\n",
    "y = testset.label_a_num\n",
    "print(x.shape)\n",
    "print(y.shape)"
   ]
  },
  {
   "cell_type": "code",
   "execution_count": 11,
   "metadata": {},
   "outputs": [],
   "source": [
    "from sklearn.model_selection import train_test_split"
   ]
  },
  {
   "cell_type": "code",
   "execution_count": 12,
   "metadata": {},
   "outputs": [],
   "source": [
    "# x_train, x_test, y_train, y_test = train_test_split(x,y,random_state=1)"
   ]
  },
  {
   "cell_type": "code",
   "execution_count": 13,
   "metadata": {},
   "outputs": [],
   "source": [
    "# print(x_train.shape)\n",
    "# print(x_test.shape)\n",
    "# print(y_train.shape)\n",
    "# print(y_test.shape)\n"
   ]
  },
  {
   "cell_type": "code",
   "execution_count": 14,
   "metadata": {},
   "outputs": [],
   "source": [
    "x_test = testseta.tweet\n",
    "y_test = labelsa.label_a_num"
   ]
  },
  {
   "cell_type": "code",
   "execution_count": 15,
   "metadata": {},
   "outputs": [],
   "source": [
    "vect = CountVectorizer(stop_words='english', ngram_range=(1, 2), min_df=2)"
   ]
  },
  {
   "cell_type": "code",
   "execution_count": 16,
   "metadata": {},
   "outputs": [],
   "source": [
    "x_train_dtm = vect.fit_transform(x)"
   ]
  },
  {
   "cell_type": "code",
   "execution_count": 17,
   "metadata": {},
   "outputs": [
    {
     "data": {
      "text/plain": [
       "<13240x17746 sparse matrix of type '<class 'numpy.int64'>'\n",
       "\twith 165863 stored elements in Compressed Sparse Row format>"
      ]
     },
     "execution_count": 17,
     "metadata": {},
     "output_type": "execute_result"
    }
   ],
   "source": [
    "x_train_dtm"
   ]
  },
  {
   "cell_type": "code",
   "execution_count": 18,
   "metadata": {},
   "outputs": [
    {
     "data": {
      "text/plain": [
       "<860x17746 sparse matrix of type '<class 'numpy.int64'>'\n",
       "\twith 9972 stored elements in Compressed Sparse Row format>"
      ]
     },
     "execution_count": 18,
     "metadata": {},
     "output_type": "execute_result"
    }
   ],
   "source": [
    "x_test_dtm = vect.transform(x_test)\n",
    "x_test_dtm"
   ]
  },
  {
   "cell_type": "code",
   "execution_count": 19,
   "metadata": {},
   "outputs": [],
   "source": [
    "from sklearn.naive_bayes import MultinomialNB\n",
    "nb = MultinomialNB()"
   ]
  },
  {
   "cell_type": "code",
   "execution_count": 20,
   "metadata": {},
   "outputs": [
    {
     "name": "stdout",
     "output_type": "stream",
     "text": [
      "2.39 ms ± 15.7 µs per loop (mean ± std. dev. of 7 runs, 100 loops each)\n"
     ]
    }
   ],
   "source": [
    "obj_nb = %timeit -o nb.fit(x_train_dtm, y)"
   ]
  },
  {
   "cell_type": "code",
   "execution_count": 21,
   "metadata": {},
   "outputs": [],
   "source": [
    "y_pred_class = nb.predict(x_test_dtm)"
   ]
  },
  {
   "cell_type": "code",
   "execution_count": 22,
   "metadata": {},
   "outputs": [
    {
     "data": {
      "text/plain": [
       "0.7732558139534884"
      ]
     },
     "execution_count": 22,
     "metadata": {},
     "output_type": "execute_result"
    }
   ],
   "source": [
    "from sklearn import metrics\n",
    "nb_acc = metrics.accuracy_score(y_test, y_pred_class)\n",
    "nb_acc"
   ]
  },
  {
   "cell_type": "code",
   "execution_count": 23,
   "metadata": {},
   "outputs": [
    {
     "data": {
      "text/plain": [
       "array([[512, 108],\n",
       "       [ 87, 153]], dtype=int64)"
      ]
     },
     "execution_count": 23,
     "metadata": {},
     "output_type": "execute_result"
    }
   ],
   "source": [
    "metrics.confusion_matrix(y_test, y_pred_class)"
   ]
  },
  {
   "cell_type": "code",
   "execution_count": 24,
   "metadata": {},
   "outputs": [
    {
     "data": {
      "text/plain": [
       "6      #RAP is a form of ART! Used to express yoursel...\n",
       "11     𝓒-𝓒𝓮𝓭𝓻𝓪𝓷..  The Nord cannot make a single move...\n",
       "12       #ConsTOO THE PLACE FOR FED UP CONSERVATIVES !!!\n",
       "18     #Dallas#Policewoman kills neighbor in HIS own ...\n",
       "23     #SilsilaBadallteRishtonKa tag is filled with a...\n",
       "                             ...                        \n",
       "806    @USER I see your point but the school shooting...\n",
       "809    @USER @USER I agree with you. Read the first p...\n",
       "815    #LifeIsButepu when your friends dont know you ...\n",
       "837    @USER Laws are for the law abiding citizens. W...\n",
       "858    #WednesdayWisdom Antifa calls the right fascis...\n",
       "Name: tweet, Length: 108, dtype: object"
      ]
     },
     "execution_count": 24,
     "metadata": {},
     "output_type": "execute_result"
    }
   ],
   "source": [
    "x_test[(y_pred_class==1) & (y_test==0)]"
   ]
  },
  {
   "cell_type": "code",
   "execution_count": 25,
   "metadata": {},
   "outputs": [
    {
     "data": {
      "text/plain": [
       "4      #NoPasaran: Unity demo to oppose the far-right...\n",
       "7      @USER Do you get the feeling he is kissing @US...\n",
       "30     #ChristineBlaseyFord is your #Kavanaugh accuse...\n",
       "43     @USER @USER @USER @USER @USER @USER @USER @USE...\n",
       "61     #Antifa: Take note of how to protest with civi...\n",
       "                             ...                        \n",
       "786    #EuropaLeague Song the EU, cash your remaining...\n",
       "800    #Kavanaugh The moment #BlaseyFord is exposed a...\n",
       "810    #BCOG @USER she is cool, confident, cocky, and...\n",
       "826    #auspol  I don't know why he is still in his j...\n",
       "834    @USER @USER @USER @USER Beats the hell NJ out ...\n",
       "Name: tweet, Length: 87, dtype: object"
      ]
     },
     "execution_count": 25,
     "metadata": {},
     "output_type": "execute_result"
    }
   ],
   "source": [
    "x_test[(y_pred_class==0) & (y_test==1)]"
   ]
  },
  {
   "cell_type": "code",
   "execution_count": 26,
   "metadata": {},
   "outputs": [
    {
     "data": {
      "text/plain": [
       "array([8.50245374e-01, 1.57899155e-01, 7.19715184e-04, 4.52782558e-02,\n",
       "       4.62295271e-02, 8.44529739e-01, 9.31921411e-01, 1.71261547e-01,\n",
       "       5.99481766e-03, 1.73814458e-01, 1.57731926e-01, 6.02194399e-01,\n",
       "       5.12533171e-01, 1.08632381e-03, 9.35645421e-01, 7.94160010e-01,\n",
       "       5.11681392e-02, 2.70337444e-01, 9.99132917e-01, 2.29125808e-01,\n",
       "       2.53819982e-04, 6.09287514e-02, 3.12885257e-01, 8.09408763e-01,\n",
       "       6.78055918e-02, 7.02691610e-01, 1.53857755e-01, 6.40613049e-01,\n",
       "       2.83525506e-01, 9.73804507e-01, 2.15218015e-01, 5.93401095e-03,\n",
       "       1.68824729e-03, 1.46392229e-03, 2.12713875e-02, 8.99954253e-02,\n",
       "       7.82722657e-04, 2.39176665e-01, 9.99999911e-01, 7.03494356e-01,\n",
       "       9.94658469e-01, 9.24685876e-01, 4.21717629e-01, 5.25608519e-05,\n",
       "       9.79321016e-04, 1.03657047e-02, 8.77246606e-01, 7.69133573e-01,\n",
       "       7.34355715e-01, 5.71454407e-01, 2.77476761e-02, 9.99779436e-01,\n",
       "       2.23730601e-01, 1.30073041e-01, 1.14412386e-03, 2.23001276e-03,\n",
       "       1.08632381e-03, 9.03147587e-04, 7.83431802e-01, 8.73557905e-01,\n",
       "       9.75543956e-01, 4.25364133e-01, 5.25143527e-04, 9.97874772e-01,\n",
       "       4.48645525e-01, 8.85671099e-02, 5.69299040e-02, 4.59342714e-01,\n",
       "       3.29284060e-01, 2.05347545e-01, 8.62182947e-01, 1.27988616e-01,\n",
       "       7.73906506e-02, 8.16908155e-02, 4.48282024e-01, 5.74806453e-01,\n",
       "       4.18170041e-01, 1.97342998e-01, 3.15568193e-02, 3.54868979e-03,\n",
       "       3.33940416e-02, 9.45082735e-01, 3.78174307e-01, 7.78029205e-02,\n",
       "       5.75719981e-07, 9.99642323e-01, 6.65629328e-02, 9.27337095e-01,\n",
       "       8.81991877e-01, 5.13593012e-01, 6.90726571e-02, 8.20855934e-05,\n",
       "       9.43603302e-01, 2.48296716e-03, 3.43476806e-01, 4.82183368e-02,\n",
       "       9.23270867e-01, 5.25143527e-04, 7.47609618e-01, 5.49999207e-01,\n",
       "       9.98898827e-01, 4.77231206e-01, 6.13378763e-02, 2.63336176e-03,\n",
       "       6.58811790e-01, 5.36142449e-02, 3.96655333e-03, 8.70678052e-01,\n",
       "       5.15301660e-01, 2.77135732e-03, 6.35978083e-01, 1.99234000e-01,\n",
       "       2.87686322e-02, 4.75675906e-02, 1.81598092e-02, 2.53621362e-01,\n",
       "       5.33432240e-01, 2.74445256e-01, 5.93003483e-01, 1.65042045e-01,\n",
       "       2.04207094e-01, 1.49253108e-01, 9.39160711e-01, 4.39192942e-02,\n",
       "       3.58299233e-02, 8.57370448e-02, 3.53538412e-02, 6.89559382e-01,\n",
       "       3.71805451e-01, 8.81991877e-01, 1.41078309e-02, 7.58676778e-03,\n",
       "       7.47730640e-01, 3.10373626e-02, 1.10236958e-01, 1.56133341e-02,\n",
       "       5.43694935e-02, 4.72918811e-03, 1.19202565e-01, 2.02642828e-01,\n",
       "       1.78712835e-01, 8.66368046e-06, 9.38454941e-01, 4.77189375e-01,\n",
       "       9.10119651e-02, 1.84712461e-03, 1.67033965e-02, 8.23153147e-01,\n",
       "       2.72570147e-02, 1.54332527e-01, 2.24927800e-01, 9.43886978e-04,\n",
       "       3.20744171e-01, 6.01660696e-01, 9.99864165e-01, 3.77962469e-03,\n",
       "       8.89697608e-01, 8.44700959e-01, 1.39864796e-01, 2.12142429e-01,\n",
       "       6.90350776e-02, 1.45135123e-01, 1.23625370e-01, 2.47863682e-02,\n",
       "       2.61181154e-01, 2.85921744e-02, 1.13583921e-01, 6.31510049e-01,\n",
       "       8.04022251e-01, 4.39873166e-01, 2.66355139e-01, 2.73313001e-01,\n",
       "       3.56099924e-01, 2.97799261e-02, 1.61835099e-02, 3.90967253e-01,\n",
       "       1.03069497e-02, 9.41033521e-01, 1.14867097e-01, 5.83503665e-03,\n",
       "       9.49474909e-01, 1.12700403e-01, 9.79698872e-01, 5.46410908e-03,\n",
       "       4.69601203e-01, 1.65914986e-01, 9.52001249e-01, 6.71507783e-01,\n",
       "       2.78040864e-03, 1.26717354e-10, 5.01200057e-02, 1.66263584e-01,\n",
       "       8.52049418e-05, 9.10119728e-01, 8.09366939e-02, 2.55933854e-01,\n",
       "       7.70105501e-01, 8.39820433e-04, 8.76712144e-02, 3.92518274e-02,\n",
       "       2.23862644e-01, 9.99467731e-01, 7.44976282e-02, 8.98030772e-01,\n",
       "       3.29632597e-02, 2.16419665e-02, 8.47691370e-01, 5.12544417e-01,\n",
       "       5.05030306e-02, 3.11969829e-04, 2.74798549e-01, 3.78598069e-01,\n",
       "       8.64150154e-01, 3.13225605e-04, 5.79564353e-01, 8.10252334e-01,\n",
       "       9.55479398e-01, 3.67397047e-03, 2.17679300e-04, 3.28463414e-01,\n",
       "       7.82375983e-03, 7.02003604e-01, 7.04425692e-01, 7.09056956e-03,\n",
       "       6.19280538e-02, 1.03761992e-02, 3.07915694e-01, 9.69648824e-01,\n",
       "       1.58954557e-02, 5.77757084e-01, 8.15390240e-01, 3.60435580e-01,\n",
       "       9.47390951e-01, 6.23477794e-01, 2.97668528e-02, 5.76155780e-02,\n",
       "       3.62927079e-01, 7.48757582e-02, 1.29093049e-02, 2.64908759e-01,\n",
       "       5.78107584e-01, 9.84888108e-01, 9.76241466e-02, 7.75200587e-01,\n",
       "       2.44391492e-01, 7.55994596e-02, 8.56451308e-02, 9.93229946e-01,\n",
       "       2.62651435e-01, 9.44761404e-01, 4.08596697e-02, 2.83829188e-01,\n",
       "       7.10018914e-01, 5.71454407e-01, 1.02989218e-01, 2.33487429e-03,\n",
       "       9.85595645e-01, 2.46097062e-01, 6.43566070e-01, 9.96987332e-01,\n",
       "       2.40958996e-02, 9.82476096e-02, 6.14985447e-01, 1.22370682e-01,\n",
       "       9.18825116e-01, 4.35224024e-01, 9.91931563e-03, 8.41236205e-02,\n",
       "       1.47099976e-02, 2.82382217e-01, 6.63653446e-01, 1.52102600e-04,\n",
       "       1.09593535e-01, 1.79538985e-01, 6.56747238e-01, 5.69522141e-02,\n",
       "       3.56052911e-01, 7.58260390e-01, 9.67890188e-01, 1.29612233e-01,\n",
       "       3.26501385e-01, 3.44949930e-04, 9.14574495e-01, 2.50851639e-01,\n",
       "       9.79647497e-01, 2.21389451e-02, 3.30150247e-01, 9.43886978e-04,\n",
       "       2.82277767e-01, 7.15879264e-04, 9.29061729e-01, 1.07928267e-01,\n",
       "       5.31478277e-03, 1.87005744e-04, 1.39733321e-01, 6.22709362e-02,\n",
       "       4.38004271e-02, 1.06846790e-01, 4.92978636e-03, 4.81706330e-01,\n",
       "       5.89441087e-01, 1.99026767e-01, 2.08911469e-02, 9.12821537e-01,\n",
       "       1.89889357e-02, 8.51709937e-03, 2.44872557e-01, 4.83690423e-01,\n",
       "       1.06900745e-03, 9.92911357e-01, 9.92911357e-01, 3.19786119e-01,\n",
       "       1.02004111e-01, 6.36117071e-01, 5.18002700e-01, 9.99198363e-01,\n",
       "       3.33883806e-02, 7.47731747e-01, 1.86831589e-03, 9.21623123e-02,\n",
       "       1.63778697e-01, 3.38339950e-01, 4.62609258e-02, 8.59785729e-01,\n",
       "       4.70686078e-02, 5.44135948e-03, 5.20749643e-02, 1.52472252e-01,\n",
       "       2.94107598e-01, 5.91439195e-02, 2.91510615e-02, 2.00224943e-01,\n",
       "       1.87202116e-01, 8.88475579e-01, 6.43199039e-01, 3.49097448e-01,\n",
       "       1.94748657e-05, 7.26933151e-06, 6.22886243e-02, 4.29148744e-01,\n",
       "       2.39584613e-01, 1.76299120e-02, 6.23246862e-02, 9.46238764e-01,\n",
       "       9.02106869e-01, 5.63574959e-03, 2.29125808e-01, 1.22515660e-01,\n",
       "       1.56675177e-01, 9.53346209e-01, 1.15701594e-01, 4.17371968e-03,\n",
       "       9.99959724e-01, 1.92527959e-02, 3.59552085e-02, 1.56814693e-02,\n",
       "       1.25208492e-01, 5.33278442e-01, 5.78399326e-01, 2.38515571e-01,\n",
       "       4.10416780e-02, 1.68269699e-02, 6.24501043e-01, 3.69215155e-01,\n",
       "       6.76783440e-01, 7.40460709e-01, 1.59449189e-03, 6.08803243e-04,\n",
       "       4.49114093e-02, 3.00606343e-01, 1.49331267e-02, 9.98514032e-01,\n",
       "       8.25455549e-01, 7.47562730e-01, 1.08781794e-07, 1.11279266e-01,\n",
       "       7.66621271e-01, 9.66949673e-01, 8.10261007e-02, 6.53792623e-02,\n",
       "       5.62341267e-03, 4.07453866e-01, 8.83745147e-01, 1.14145294e-02,\n",
       "       5.48612230e-03, 2.21534468e-01, 6.19649368e-02, 1.58992764e-01,\n",
       "       5.05643536e-06, 5.50446288e-02, 8.12042860e-01, 1.75235326e-02,\n",
       "       1.97311796e-06, 1.88416887e-01, 1.73492152e-01, 1.57689837e-01,\n",
       "       5.02801529e-03, 1.47570523e-03, 1.08632381e-03, 3.98884533e-01,\n",
       "       6.58199384e-01, 9.12522981e-02, 3.99049425e-01, 9.34240847e-01,\n",
       "       4.85538481e-01, 5.45440836e-01, 9.92273918e-01, 2.53839550e-01,\n",
       "       5.54339507e-02, 3.03449587e-04, 2.28634413e-02, 6.01413701e-01,\n",
       "       1.48983982e-01, 6.07649917e-01, 9.98429000e-01, 1.34471293e-01,\n",
       "       1.99840921e-01, 9.23270867e-01, 8.71288670e-01, 3.73555225e-02,\n",
       "       4.82234476e-01, 4.04912053e-03, 2.57881127e-01, 1.87725045e-03,\n",
       "       6.01750194e-02, 1.58219140e-03, 9.99405941e-01, 5.38619698e-01,\n",
       "       9.58574053e-01, 1.09588267e-01, 1.44362407e-01, 5.35928401e-02,\n",
       "       8.99035444e-01, 9.98800578e-01, 4.40690104e-04, 4.95076790e-01,\n",
       "       1.02047952e-02, 9.93078556e-01, 2.45677090e-01, 2.74275407e-01,\n",
       "       9.72578220e-04, 3.66778726e-02, 6.90899536e-02, 9.28281064e-01,\n",
       "       9.65200748e-02, 9.98858853e-01, 1.57613747e-04, 9.12439311e-01,\n",
       "       1.32847733e-02, 1.75770966e-01, 6.26968073e-01, 2.51630929e-01,\n",
       "       4.59764870e-04, 8.70093117e-02, 3.80955599e-01, 9.96538232e-01,\n",
       "       3.07206194e-01, 7.46437991e-01, 3.13006767e-01, 9.51133982e-05,\n",
       "       9.26486580e-01, 3.11521316e-04, 3.15319499e-01, 2.03970606e-03,\n",
       "       9.03702306e-01, 6.00697900e-01, 2.97261303e-01, 1.65775402e-04,\n",
       "       4.65305762e-01, 1.74076775e-02, 7.71971433e-01, 4.27422932e-02,\n",
       "       2.33822806e-05, 2.19590316e-02, 4.28135316e-02, 2.64330270e-02,\n",
       "       1.12617523e-01, 7.86288302e-01, 9.17683209e-01, 1.58989755e-01,\n",
       "       7.71427696e-01, 5.52384986e-01, 2.91262501e-03, 6.68304271e-03,\n",
       "       2.37226599e-01, 3.47487772e-01, 8.13134332e-01, 4.87768894e-03,\n",
       "       9.94651990e-01, 2.14847849e-01, 5.59184465e-03, 7.81698557e-01,\n",
       "       6.13863597e-02, 1.02344395e-01, 7.68591250e-01, 4.44250664e-01,\n",
       "       3.64662785e-05, 1.18519099e-01, 1.47511996e-02, 4.85604873e-01,\n",
       "       3.24393338e-03, 4.45449095e-01, 6.81534065e-01, 6.28762352e-02,\n",
       "       2.55933949e-01, 9.98296085e-01, 3.25640335e-02, 8.40519222e-01,\n",
       "       5.59836323e-02, 8.74884581e-01, 1.30714593e-01, 1.89074630e-01,\n",
       "       7.28307586e-02, 6.23364683e-01, 2.43113347e-02, 2.51792641e-01,\n",
       "       2.21848209e-01, 5.46677638e-01, 2.01414636e-01, 6.06628694e-02,\n",
       "       6.06902873e-01, 9.87169207e-01, 2.27350146e-01, 2.22960127e-01,\n",
       "       1.06331150e-02, 2.33563900e-01, 8.98330054e-01, 1.57689837e-01,\n",
       "       1.27539067e-02, 5.30733568e-01, 2.74139698e-01, 3.49998670e-01,\n",
       "       5.47446717e-03, 2.72219685e-02, 1.48359471e-04, 2.14477580e-01,\n",
       "       6.49974054e-01, 2.02638578e-02, 2.98436179e-01, 2.57232556e-01,\n",
       "       1.49332622e-01, 9.79000521e-01, 1.39005907e-01, 4.01866489e-03,\n",
       "       3.88780688e-01, 3.02236710e-03, 8.54101679e-01, 4.29342679e-02,\n",
       "       5.04405392e-06, 9.59731911e-01, 1.91529828e-01, 1.16371086e-01,\n",
       "       7.94162671e-01, 2.10825620e-01, 8.87248385e-01, 9.51214578e-01,\n",
       "       4.67026357e-01, 4.38019267e-02, 2.29125808e-01, 9.99043931e-01,\n",
       "       4.04777557e-03, 9.49929711e-01, 4.90264860e-02, 6.94374336e-02,\n",
       "       4.01635077e-01, 1.90287199e-02, 7.92744744e-01, 7.07093435e-01,\n",
       "       1.47917082e-01, 8.12471824e-01, 5.02696748e-02, 1.25475220e-01,\n",
       "       4.75349389e-01, 9.88043470e-03, 3.22998674e-02, 2.55231239e-01,\n",
       "       1.83894155e-02, 7.73710111e-02, 4.56748478e-01, 9.89214155e-01,\n",
       "       4.37030220e-01, 7.71669134e-01, 6.17557568e-03, 5.51126374e-03,\n",
       "       2.69026949e-03, 1.26883891e-02, 5.20273255e-02, 7.76617764e-01,\n",
       "       2.27724215e-04, 1.33063035e-04, 8.15082916e-02, 9.65200748e-02,\n",
       "       5.50212450e-01, 1.19678290e-01, 2.44799728e-01, 5.96112888e-02,\n",
       "       4.06599498e-02, 3.75881663e-01, 1.11820086e-02, 4.62262444e-01,\n",
       "       1.94667568e-02, 4.72894218e-01, 1.38265593e-02, 2.78952718e-02,\n",
       "       7.61421022e-01, 4.06169020e-01, 2.38954233e-01, 5.33269812e-02,\n",
       "       1.40332770e-01, 1.18810982e-01, 3.36577550e-02, 3.71888736e-02,\n",
       "       8.85833022e-02, 9.29296311e-01, 7.65388506e-01, 8.03599477e-01,\n",
       "       3.34425335e-01, 9.99116211e-01, 2.42966318e-01, 4.47353499e-01,\n",
       "       3.21008470e-01, 2.48330238e-02, 1.14257192e-02, 3.32326284e-01,\n",
       "       1.75914867e-01, 1.17069365e-01, 2.79126514e-01, 1.79339404e-02,\n",
       "       1.85203718e-03, 9.98304049e-01, 4.66718547e-02, 1.19137262e-01,\n",
       "       9.98643483e-01, 1.71749700e-03, 9.19877781e-01, 3.04546820e-01,\n",
       "       9.88340069e-02, 8.69115148e-01, 7.79672596e-01, 6.50366865e-01,\n",
       "       7.53334361e-01, 4.41798763e-03, 9.26965776e-01, 7.44954187e-01,\n",
       "       3.35341123e-01, 6.11250728e-02, 6.67557326e-01, 6.62832502e-02,\n",
       "       7.63391844e-01, 9.94594431e-01, 3.95394520e-04, 8.42762278e-01,\n",
       "       2.63294083e-01, 3.32326284e-01, 6.77284925e-01, 7.87663480e-03,\n",
       "       5.20886526e-02, 7.86920713e-01, 1.16223682e-02, 3.68028547e-05,\n",
       "       1.65881500e-01, 7.46896400e-01, 6.66084783e-02, 2.12464345e-02,\n",
       "       1.77176082e-03, 2.40100722e-02, 2.29125808e-01, 1.55334582e-01,\n",
       "       2.83058150e-02, 8.85538907e-01, 1.97750402e-03, 2.21990887e-03,\n",
       "       1.08632381e-03, 1.54515202e-01, 4.29633198e-01, 1.43708452e-01,\n",
       "       4.98170737e-01, 2.33715158e-01, 3.32326284e-01, 4.34078359e-01,\n",
       "       2.24525067e-02, 9.95257963e-01, 1.26462053e-01, 1.40542883e-02,\n",
       "       8.26088131e-02, 1.77995607e-02, 3.31239060e-01, 5.32495673e-02,\n",
       "       1.42775736e-01, 3.25392528e-02, 2.44799728e-01, 4.01630999e-01,\n",
       "       5.06728059e-01, 1.94871794e-01, 1.22540414e-03, 8.73835888e-01,\n",
       "       7.44409314e-03, 1.70591429e-03, 9.87117739e-01, 5.14177763e-01,\n",
       "       8.66885722e-01, 9.99989879e-01, 8.83323769e-01, 6.90377648e-01,\n",
       "       5.54859078e-02, 5.26958773e-04, 3.79712237e-02, 1.09017977e-02,\n",
       "       1.93168379e-02, 4.39419303e-02, 1.31854982e-01, 7.29017404e-01,\n",
       "       6.60919349e-01, 7.85713484e-01, 9.34641400e-03, 3.30325385e-03,\n",
       "       8.30463806e-01, 2.99197759e-02, 8.89258222e-01, 4.12795762e-04,\n",
       "       3.36844113e-02, 9.88340069e-02, 3.45853297e-01, 5.48550374e-02,\n",
       "       2.98803960e-01, 6.91627462e-04, 2.19341239e-01, 4.49238212e-02,\n",
       "       4.38170053e-02, 1.22514857e-03, 9.87371147e-01, 8.58865252e-01,\n",
       "       9.91755622e-02, 1.55873544e-01, 9.82687971e-03, 1.56793621e-02,\n",
       "       9.85911152e-01, 6.85816816e-01, 2.32547228e-01, 5.84055332e-01,\n",
       "       8.19258027e-01, 9.03762030e-02, 5.58286193e-01, 3.47453351e-05,\n",
       "       4.75828109e-01, 7.04134177e-04, 1.78369885e-01, 1.97902290e-01,\n",
       "       8.01736495e-01, 8.80278510e-02, 4.64789179e-01, 9.91784761e-01,\n",
       "       1.15163728e-02, 8.15444035e-02, 1.15628932e-01, 7.75408104e-01,\n",
       "       3.72131938e-02, 7.53140288e-02, 6.01798989e-02, 7.60587024e-01,\n",
       "       4.40542996e-06, 7.28508861e-03, 6.44183995e-01, 6.87721254e-01,\n",
       "       9.99974706e-01, 1.93199439e-01, 7.68770723e-02, 9.99412020e-01,\n",
       "       5.51883403e-02, 6.04422328e-01, 6.40203912e-01, 3.13930107e-01,\n",
       "       2.03502230e-01, 5.58830412e-01, 6.30444208e-02, 3.07940465e-01,\n",
       "       1.40465523e-02, 1.64809356e-01, 2.00249025e-04, 1.39437313e-03,\n",
       "       1.31121629e-01, 4.57716330e-01, 9.99552189e-01, 9.63425837e-01,\n",
       "       1.96660956e-03, 3.36498117e-03, 1.28711743e-01, 1.49830735e-01,\n",
       "       1.22892985e-01, 7.10035499e-01, 5.66958001e-02, 9.78251457e-01,\n",
       "       4.08747452e-02, 5.79134725e-01, 1.05408087e-02, 4.28279946e-01,\n",
       "       1.78177314e-01, 9.75200814e-01, 3.96441874e-01, 7.53749552e-01,\n",
       "       3.37071723e-01, 2.64852478e-01, 3.52221030e-01, 2.21731845e-01,\n",
       "       6.12266189e-01, 5.67498009e-01, 6.26449759e-01, 1.16673091e-01,\n",
       "       4.90378011e-02, 5.27511396e-01, 1.12675705e-02, 5.43768144e-02,\n",
       "       1.97300953e-01, 1.88914360e-02, 9.91800945e-01, 5.09537679e-01,\n",
       "       6.24160188e-02, 9.71242741e-03, 9.80290380e-01, 6.50666009e-02,\n",
       "       7.36887523e-02, 4.00018042e-02, 1.11140155e-01, 8.40497450e-01,\n",
       "       2.79057557e-01, 4.98188065e-04, 1.55990584e-01, 9.51191892e-01,\n",
       "       3.81558805e-02, 1.03657047e-02, 7.29065757e-04, 1.45348756e-01,\n",
       "       3.09381111e-01, 7.85613700e-01, 7.37846784e-02, 8.01259307e-01,\n",
       "       8.95125754e-03, 9.70858591e-01, 3.21382974e-01, 6.83828690e-02,\n",
       "       2.93293915e-03, 2.49152559e-01, 9.93433715e-01, 1.46206706e-01,\n",
       "       1.81720390e-02, 9.17714429e-05, 2.49257804e-01, 9.46078166e-01,\n",
       "       3.14610993e-02, 2.38142418e-05, 1.33791415e-01, 2.62372918e-01,\n",
       "       2.09513147e-01, 9.08535148e-01, 1.77849516e-01, 5.60295478e-01,\n",
       "       2.43697346e-06, 5.96718077e-01, 8.36893076e-01, 4.64516602e-01])"
      ]
     },
     "execution_count": 26,
     "metadata": {},
     "output_type": "execute_result"
    }
   ],
   "source": [
    "y_pred_prob = nb.predict_proba(x_test_dtm)[:,1]\n",
    "y_pred_prob"
   ]
  },
  {
   "cell_type": "code",
   "execution_count": 27,
   "metadata": {},
   "outputs": [
    {
     "data": {
      "text/plain": [
       "0.7935853494623655"
      ]
     },
     "execution_count": 27,
     "metadata": {},
     "output_type": "execute_result"
    }
   ],
   "source": [
    "metrics.roc_auc_score(y_test, y_pred_prob)"
   ]
  },
  {
   "cell_type": "markdown",
   "metadata": {},
   "source": [
    "# Part 2\n",
    "Okay so i got the notebook working well and also was able to use the data set and naive bayes.\n",
    "\n",
    "Now im gonna try some other models so i can compare them, after that might try and look into why the accuracy was so low for NB"
   ]
  },
  {
   "cell_type": "code",
   "execution_count": 28,
   "metadata": {},
   "outputs": [],
   "source": [
    "from sklearn.linear_model  import LogisticRegression, SGDClassifier\n",
    "logreg = LogisticRegression(max_iter=10000)\n",
    "sgdc = SGDClassifier()"
   ]
  },
  {
   "cell_type": "code",
   "execution_count": 29,
   "metadata": {},
   "outputs": [
    {
     "name": "stdout",
     "output_type": "stream",
     "text": [
      "1.04 s ± 20.6 ms per loop (mean ± std. dev. of 7 runs, 1 loop each)\n"
     ]
    }
   ],
   "source": [
    "obj_log = %timeit -o logreg.fit(x_train_dtm, y)"
   ]
  },
  {
   "cell_type": "code",
   "execution_count": 30,
   "metadata": {},
   "outputs": [],
   "source": [
    "y_pred_class = logreg.predict(x_test_dtm)"
   ]
  },
  {
   "cell_type": "code",
   "execution_count": 31,
   "metadata": {},
   "outputs": [],
   "source": [
    "y_pred_prob = logreg.predict_proba(x_test_dtm)[:,1]"
   ]
  },
  {
   "cell_type": "code",
   "execution_count": 32,
   "metadata": {},
   "outputs": [],
   "source": [
    "log_acc = metrics.accuracy_score(y_test, y_pred_class)"
   ]
  },
  {
   "cell_type": "code",
   "execution_count": 33,
   "metadata": {},
   "outputs": [
    {
     "data": {
      "text/plain": [
       "0.797557123655914"
      ]
     },
     "execution_count": 33,
     "metadata": {},
     "output_type": "execute_result"
    }
   ],
   "source": [
    "metrics.roc_auc_score(y_test, y_pred_prob)"
   ]
  },
  {
   "cell_type": "code",
   "execution_count": 34,
   "metadata": {},
   "outputs": [
    {
     "name": "stdout",
     "output_type": "stream",
     "text": [
      "55.2 ms ± 2.2 ms per loop (mean ± std. dev. of 7 runs, 10 loops each)\n"
     ]
    }
   ],
   "source": [
    "obj_SVM = %timeit -o sgdc.fit(x_train_dtm, y)"
   ]
  },
  {
   "cell_type": "code",
   "execution_count": 35,
   "metadata": {},
   "outputs": [],
   "source": [
    "y_pred_class = sgdc.predict(x_test_dtm)\n",
    "svm_acc = metrics.accuracy_score(y_test,y_pred_class)"
   ]
  },
  {
   "cell_type": "code",
   "execution_count": 36,
   "metadata": {},
   "outputs": [
    {
     "data": {
      "text/plain": [
       "17746"
      ]
     },
     "execution_count": 36,
     "metadata": {},
     "output_type": "execute_result"
    }
   ],
   "source": [
    "x_train_tokens = vect.get_feature_names()\n",
    "len(x_train_tokens)"
   ]
  },
  {
   "cell_type": "code",
   "execution_count": 37,
   "metadata": {},
   "outputs": [
    {
     "name": "stdout",
     "output_type": "stream",
     "text": [
      "['00', '000', '05', '08', '08 12', '08 18', '09', '09 08', '09 14', '10', '10 20', '10 century', '10 cities', '10 mile', '10 million', '10 signs', '10 years', '100', '100 agree', '100 correct', '100 percent', '100 right', '1000', '100s', '101', '102', '10th', '10x', '10yrs', '11', '11 year', '110', '11th', '11th hour', '12', '12 gauge', '13', '13 killers', '1300', '1300 pump', '14', '14 23', '14th', '15', '15 concert', '15 fully', '15 min', '15 minutes', '15 year', '15 years']\n"
     ]
    }
   ],
   "source": [
    "print(x_train_tokens[0:50])"
   ]
  },
  {
   "cell_type": "code",
   "execution_count": 38,
   "metadata": {},
   "outputs": [
    {
     "name": "stdout",
     "output_type": "stream",
     "text": [
      "['youll', 'young', 'young age', 'young conservatives', 'young dumb', 'young fascists', 'young lady', 'young man', 'young men', 'young minds', 'young people', 'young woman', 'younger', 'youre', 'youth', 'youth activists', 'youth invasion', 'youthful', 'youtube', 'youtube url', 'youtuber', 'youuuu', 'yr', 'yr old', 'yrs', 'yrs ago', 'yrs later', 'yuge', 'yup', 'zealand', 'zealots', 'zero', 'zero accomplishments', 'zero credibility', 'zero evidence', 'zim', 'zimmerman', 'zionists', 'zoe', 'zombie', 'zombie url', 'zone', 'zones', 'zones don', 'zuckerberg', '너의존재가_기적이야', '너의존재가_기적이야 url', '현재', '현재 gt', '현재 ll']\n"
     ]
    }
   ],
   "source": [
    "print(x_train_tokens[-50:])"
   ]
  },
  {
   "cell_type": "code",
   "execution_count": 39,
   "metadata": {},
   "outputs": [
    {
     "data": {
      "text/plain": [
       "array([[2., 3., 1., ..., 5., 2., 2.],\n",
       "       [0., 0., 1., ..., 0., 0., 0.]])"
      ]
     },
     "execution_count": 39,
     "metadata": {},
     "output_type": "execute_result"
    }
   ],
   "source": [
    "nb.feature_count_"
   ]
  },
  {
   "cell_type": "code",
   "execution_count": 40,
   "metadata": {},
   "outputs": [
    {
     "data": {
      "text/plain": [
       "(2, 17746)"
      ]
     },
     "execution_count": 40,
     "metadata": {},
     "output_type": "execute_result"
    }
   ],
   "source": [
    "nb.feature_count_.shape"
   ]
  },
  {
   "cell_type": "code",
   "execution_count": 41,
   "metadata": {},
   "outputs": [
    {
     "data": {
      "text/plain": [
       "array([0., 0., 1., ..., 0., 0., 0.])"
      ]
     },
     "execution_count": 41,
     "metadata": {},
     "output_type": "execute_result"
    }
   ],
   "source": [
    "OFF_token_count = nb.feature_count_[1,:]\n",
    "OFF_token_count"
   ]
  },
  {
   "cell_type": "code",
   "execution_count": 42,
   "metadata": {},
   "outputs": [
    {
     "data": {
      "text/plain": [
       "array([2., 3., 1., ..., 5., 2., 2.])"
      ]
     },
     "execution_count": 42,
     "metadata": {},
     "output_type": "execute_result"
    }
   ],
   "source": [
    "NOT_token_count = nb.feature_count_[0,:]\n",
    "NOT_token_count"
   ]
  },
  {
   "cell_type": "code",
   "execution_count": 43,
   "metadata": {},
   "outputs": [
    {
     "data": {
      "text/html": [
       "<div>\n",
       "<style scoped>\n",
       "    .dataframe tbody tr th:only-of-type {\n",
       "        vertical-align: middle;\n",
       "    }\n",
       "\n",
       "    .dataframe tbody tr th {\n",
       "        vertical-align: top;\n",
       "    }\n",
       "\n",
       "    .dataframe thead th {\n",
       "        text-align: right;\n",
       "    }\n",
       "</style>\n",
       "<table border=\"1\" class=\"dataframe\">\n",
       "  <thead>\n",
       "    <tr style=\"text-align: right;\">\n",
       "      <th></th>\n",
       "      <th>token</th>\n",
       "      <th>OFF</th>\n",
       "      <th>NOT</th>\n",
       "    </tr>\n",
       "  </thead>\n",
       "  <tbody>\n",
       "    <tr>\n",
       "      <th>0</th>\n",
       "      <td>00</td>\n",
       "      <td>0.0</td>\n",
       "      <td>2.0</td>\n",
       "    </tr>\n",
       "    <tr>\n",
       "      <th>1</th>\n",
       "      <td>000</td>\n",
       "      <td>0.0</td>\n",
       "      <td>3.0</td>\n",
       "    </tr>\n",
       "    <tr>\n",
       "      <th>2</th>\n",
       "      <td>05</td>\n",
       "      <td>1.0</td>\n",
       "      <td>1.0</td>\n",
       "    </tr>\n",
       "    <tr>\n",
       "      <th>3</th>\n",
       "      <td>08</td>\n",
       "      <td>0.0</td>\n",
       "      <td>6.0</td>\n",
       "    </tr>\n",
       "    <tr>\n",
       "      <th>4</th>\n",
       "      <td>08 12</td>\n",
       "      <td>0.0</td>\n",
       "      <td>2.0</td>\n",
       "    </tr>\n",
       "    <tr>\n",
       "      <th>5</th>\n",
       "      <td>08 18</td>\n",
       "      <td>0.0</td>\n",
       "      <td>2.0</td>\n",
       "    </tr>\n",
       "    <tr>\n",
       "      <th>6</th>\n",
       "      <td>09</td>\n",
       "      <td>1.0</td>\n",
       "      <td>4.0</td>\n",
       "    </tr>\n",
       "    <tr>\n",
       "      <th>7</th>\n",
       "      <td>09 08</td>\n",
       "      <td>0.0</td>\n",
       "      <td>2.0</td>\n",
       "    </tr>\n",
       "    <tr>\n",
       "      <th>8</th>\n",
       "      <td>09 14</td>\n",
       "      <td>0.0</td>\n",
       "      <td>2.0</td>\n",
       "    </tr>\n",
       "    <tr>\n",
       "      <th>9</th>\n",
       "      <td>10</td>\n",
       "      <td>15.0</td>\n",
       "      <td>45.0</td>\n",
       "    </tr>\n",
       "  </tbody>\n",
       "</table>\n",
       "</div>"
      ],
      "text/plain": [
       "   token   OFF   NOT\n",
       "0     00   0.0   2.0\n",
       "1    000   0.0   3.0\n",
       "2     05   1.0   1.0\n",
       "3     08   0.0   6.0\n",
       "4  08 12   0.0   2.0\n",
       "5  08 18   0.0   2.0\n",
       "6     09   1.0   4.0\n",
       "7  09 08   0.0   2.0\n",
       "8  09 14   0.0   2.0\n",
       "9     10  15.0  45.0"
      ]
     },
     "execution_count": 43,
     "metadata": {},
     "output_type": "execute_result"
    }
   ],
   "source": [
    "tokens = pd.DataFrame({'token':x_train_tokens, 'OFF':OFF_token_count, 'NOT':NOT_token_count})\n",
    "tokens.head(10)"
   ]
  },
  {
   "cell_type": "code",
   "execution_count": 44,
   "metadata": {},
   "outputs": [
    {
     "data": {
      "text/html": [
       "<div>\n",
       "<style scoped>\n",
       "    .dataframe tbody tr th:only-of-type {\n",
       "        vertical-align: middle;\n",
       "    }\n",
       "\n",
       "    .dataframe tbody tr th {\n",
       "        vertical-align: top;\n",
       "    }\n",
       "\n",
       "    .dataframe thead th {\n",
       "        text-align: right;\n",
       "    }\n",
       "</style>\n",
       "<table border=\"1\" class=\"dataframe\">\n",
       "  <thead>\n",
       "    <tr style=\"text-align: right;\">\n",
       "      <th></th>\n",
       "      <th>token</th>\n",
       "      <th>OFF</th>\n",
       "      <th>NOT</th>\n",
       "    </tr>\n",
       "  </thead>\n",
       "  <tbody>\n",
       "    <tr>\n",
       "      <th>5598</th>\n",
       "      <td>fun</td>\n",
       "      <td>18.0</td>\n",
       "      <td>29.0</td>\n",
       "    </tr>\n",
       "    <tr>\n",
       "      <th>4637</th>\n",
       "      <td>echo</td>\n",
       "      <td>1.0</td>\n",
       "      <td>1.0</td>\n",
       "    </tr>\n",
       "    <tr>\n",
       "      <th>11116</th>\n",
       "      <td>popped</td>\n",
       "      <td>3.0</td>\n",
       "      <td>0.0</td>\n",
       "    </tr>\n",
       "    <tr>\n",
       "      <th>2045</th>\n",
       "      <td>bts</td>\n",
       "      <td>0.0</td>\n",
       "      <td>4.0</td>\n",
       "    </tr>\n",
       "    <tr>\n",
       "      <th>3079</th>\n",
       "      <td>content</td>\n",
       "      <td>0.0</td>\n",
       "      <td>8.0</td>\n",
       "    </tr>\n",
       "    <tr>\n",
       "      <th>4879</th>\n",
       "      <td>european</td>\n",
       "      <td>3.0</td>\n",
       "      <td>6.0</td>\n",
       "    </tr>\n",
       "    <tr>\n",
       "      <th>1927</th>\n",
       "      <td>brain knows</td>\n",
       "      <td>2.0</td>\n",
       "      <td>0.0</td>\n",
       "    </tr>\n",
       "    <tr>\n",
       "      <th>7870</th>\n",
       "      <td>know moral</td>\n",
       "      <td>1.0</td>\n",
       "      <td>2.0</td>\n",
       "    </tr>\n",
       "    <tr>\n",
       "      <th>5108</th>\n",
       "      <td>family think</td>\n",
       "      <td>1.0</td>\n",
       "      <td>1.0</td>\n",
       "    </tr>\n",
       "    <tr>\n",
       "      <th>15574</th>\n",
       "      <td>user cost</td>\n",
       "      <td>0.0</td>\n",
       "      <td>2.0</td>\n",
       "    </tr>\n",
       "    <tr>\n",
       "      <th>16151</th>\n",
       "      <td>user nut</td>\n",
       "      <td>2.0</td>\n",
       "      <td>1.0</td>\n",
       "    </tr>\n",
       "    <tr>\n",
       "      <th>288</th>\n",
       "      <td>abusive</td>\n",
       "      <td>6.0</td>\n",
       "      <td>1.0</td>\n",
       "    </tr>\n",
       "    <tr>\n",
       "      <th>11167</th>\n",
       "      <td>potus</td>\n",
       "      <td>19.0</td>\n",
       "      <td>27.0</td>\n",
       "    </tr>\n",
       "    <tr>\n",
       "      <th>5174</th>\n",
       "      <td>faux</td>\n",
       "      <td>3.0</td>\n",
       "      <td>2.0</td>\n",
       "    </tr>\n",
       "    <tr>\n",
       "      <th>14843</th>\n",
       "      <td>trump getting</td>\n",
       "      <td>1.0</td>\n",
       "      <td>1.0</td>\n",
       "    </tr>\n",
       "  </tbody>\n",
       "</table>\n",
       "</div>"
      ],
      "text/plain": [
       "               token   OFF   NOT\n",
       "5598             fun  18.0  29.0\n",
       "4637            echo   1.0   1.0\n",
       "11116         popped   3.0   0.0\n",
       "2045             bts   0.0   4.0\n",
       "3079         content   0.0   8.0\n",
       "4879        european   3.0   6.0\n",
       "1927     brain knows   2.0   0.0\n",
       "7870      know moral   1.0   2.0\n",
       "5108    family think   1.0   1.0\n",
       "15574      user cost   0.0   2.0\n",
       "16151       user nut   2.0   1.0\n",
       "288          abusive   6.0   1.0\n",
       "11167          potus  19.0  27.0\n",
       "5174            faux   3.0   2.0\n",
       "14843  trump getting   1.0   1.0"
      ]
     },
     "execution_count": 44,
     "metadata": {},
     "output_type": "execute_result"
    }
   ],
   "source": [
    "tokens.sample(15, random_state=8)"
   ]
  },
  {
   "cell_type": "code",
   "execution_count": 45,
   "metadata": {},
   "outputs": [
    {
     "data": {
      "text/plain": [
       "array([8840., 4400.])"
      ]
     },
     "execution_count": 45,
     "metadata": {},
     "output_type": "execute_result"
    }
   ],
   "source": [
    "nb.class_count_"
   ]
  },
  {
   "cell_type": "code",
   "execution_count": 46,
   "metadata": {},
   "outputs": [],
   "source": [
    "tokens['OFF'] = tokens.OFF + 1\n",
    "tokens['NOT'] = tokens.NOT + 1"
   ]
  },
  {
   "cell_type": "code",
   "execution_count": 47,
   "metadata": {},
   "outputs": [
    {
     "data": {
      "text/html": [
       "<div>\n",
       "<style scoped>\n",
       "    .dataframe tbody tr th:only-of-type {\n",
       "        vertical-align: middle;\n",
       "    }\n",
       "\n",
       "    .dataframe tbody tr th {\n",
       "        vertical-align: top;\n",
       "    }\n",
       "\n",
       "    .dataframe thead th {\n",
       "        text-align: right;\n",
       "    }\n",
       "</style>\n",
       "<table border=\"1\" class=\"dataframe\">\n",
       "  <thead>\n",
       "    <tr style=\"text-align: right;\">\n",
       "      <th></th>\n",
       "      <th>token</th>\n",
       "      <th>OFF</th>\n",
       "      <th>NOT</th>\n",
       "    </tr>\n",
       "  </thead>\n",
       "  <tbody>\n",
       "    <tr>\n",
       "      <th>5598</th>\n",
       "      <td>fun</td>\n",
       "      <td>0.004318</td>\n",
       "      <td>0.003394</td>\n",
       "    </tr>\n",
       "    <tr>\n",
       "      <th>4637</th>\n",
       "      <td>echo</td>\n",
       "      <td>0.000455</td>\n",
       "      <td>0.000226</td>\n",
       "    </tr>\n",
       "    <tr>\n",
       "      <th>11116</th>\n",
       "      <td>popped</td>\n",
       "      <td>0.000909</td>\n",
       "      <td>0.000113</td>\n",
       "    </tr>\n",
       "    <tr>\n",
       "      <th>2045</th>\n",
       "      <td>bts</td>\n",
       "      <td>0.000227</td>\n",
       "      <td>0.000566</td>\n",
       "    </tr>\n",
       "    <tr>\n",
       "      <th>3079</th>\n",
       "      <td>content</td>\n",
       "      <td>0.000227</td>\n",
       "      <td>0.001018</td>\n",
       "    </tr>\n",
       "    <tr>\n",
       "      <th>4879</th>\n",
       "      <td>european</td>\n",
       "      <td>0.000909</td>\n",
       "      <td>0.000792</td>\n",
       "    </tr>\n",
       "    <tr>\n",
       "      <th>1927</th>\n",
       "      <td>brain knows</td>\n",
       "      <td>0.000682</td>\n",
       "      <td>0.000113</td>\n",
       "    </tr>\n",
       "    <tr>\n",
       "      <th>7870</th>\n",
       "      <td>know moral</td>\n",
       "      <td>0.000455</td>\n",
       "      <td>0.000339</td>\n",
       "    </tr>\n",
       "    <tr>\n",
       "      <th>5108</th>\n",
       "      <td>family think</td>\n",
       "      <td>0.000455</td>\n",
       "      <td>0.000226</td>\n",
       "    </tr>\n",
       "    <tr>\n",
       "      <th>15574</th>\n",
       "      <td>user cost</td>\n",
       "      <td>0.000227</td>\n",
       "      <td>0.000339</td>\n",
       "    </tr>\n",
       "    <tr>\n",
       "      <th>16151</th>\n",
       "      <td>user nut</td>\n",
       "      <td>0.000682</td>\n",
       "      <td>0.000226</td>\n",
       "    </tr>\n",
       "    <tr>\n",
       "      <th>288</th>\n",
       "      <td>abusive</td>\n",
       "      <td>0.001591</td>\n",
       "      <td>0.000226</td>\n",
       "    </tr>\n",
       "    <tr>\n",
       "      <th>11167</th>\n",
       "      <td>potus</td>\n",
       "      <td>0.004545</td>\n",
       "      <td>0.003167</td>\n",
       "    </tr>\n",
       "    <tr>\n",
       "      <th>5174</th>\n",
       "      <td>faux</td>\n",
       "      <td>0.000909</td>\n",
       "      <td>0.000339</td>\n",
       "    </tr>\n",
       "    <tr>\n",
       "      <th>14843</th>\n",
       "      <td>trump getting</td>\n",
       "      <td>0.000455</td>\n",
       "      <td>0.000226</td>\n",
       "    </tr>\n",
       "  </tbody>\n",
       "</table>\n",
       "</div>"
      ],
      "text/plain": [
       "               token       OFF       NOT\n",
       "5598             fun  0.004318  0.003394\n",
       "4637            echo  0.000455  0.000226\n",
       "11116         popped  0.000909  0.000113\n",
       "2045             bts  0.000227  0.000566\n",
       "3079         content  0.000227  0.001018\n",
       "4879        european  0.000909  0.000792\n",
       "1927     brain knows  0.000682  0.000113\n",
       "7870      know moral  0.000455  0.000339\n",
       "5108    family think  0.000455  0.000226\n",
       "15574      user cost  0.000227  0.000339\n",
       "16151       user nut  0.000682  0.000226\n",
       "288          abusive  0.001591  0.000226\n",
       "11167          potus  0.004545  0.003167\n",
       "5174            faux  0.000909  0.000339\n",
       "14843  trump getting  0.000455  0.000226"
      ]
     },
     "execution_count": 47,
     "metadata": {},
     "output_type": "execute_result"
    }
   ],
   "source": [
    "tokens['OFF'] = tokens.OFF /nb.class_count_[1]\n",
    "tokens['NOT'] = tokens.NOT / nb.class_count_[0]\n",
    "tokens.sample(15, random_state=8)"
   ]
  },
  {
   "cell_type": "code",
   "execution_count": 48,
   "metadata": {},
   "outputs": [
    {
     "data": {
      "text/html": [
       "<div>\n",
       "<style scoped>\n",
       "    .dataframe tbody tr th:only-of-type {\n",
       "        vertical-align: middle;\n",
       "    }\n",
       "\n",
       "    .dataframe tbody tr th {\n",
       "        vertical-align: top;\n",
       "    }\n",
       "\n",
       "    .dataframe thead th {\n",
       "        text-align: right;\n",
       "    }\n",
       "</style>\n",
       "<table border=\"1\" class=\"dataframe\">\n",
       "  <thead>\n",
       "    <tr style=\"text-align: right;\">\n",
       "      <th></th>\n",
       "      <th>token</th>\n",
       "      <th>OFF</th>\n",
       "      <th>NOT</th>\n",
       "      <th>OFF_ratio</th>\n",
       "    </tr>\n",
       "  </thead>\n",
       "  <tbody>\n",
       "    <tr>\n",
       "      <th>174</th>\n",
       "      <td>39</td>\n",
       "      <td>0.000227</td>\n",
       "      <td>0.000452</td>\n",
       "      <td>0.502273</td>\n",
       "    </tr>\n",
       "    <tr>\n",
       "      <th>10262</th>\n",
       "      <td>oh right</td>\n",
       "      <td>0.000455</td>\n",
       "      <td>0.000452</td>\n",
       "      <td>1.004545</td>\n",
       "    </tr>\n",
       "    <tr>\n",
       "      <th>7754</th>\n",
       "      <td>kidding</td>\n",
       "      <td>0.000682</td>\n",
       "      <td>0.001471</td>\n",
       "      <td>0.463636</td>\n",
       "    </tr>\n",
       "    <tr>\n",
       "      <th>5008</th>\n",
       "      <td>extra 2bn</td>\n",
       "      <td>0.000227</td>\n",
       "      <td>0.000339</td>\n",
       "      <td>0.669697</td>\n",
       "    </tr>\n",
       "    <tr>\n",
       "      <th>4689</th>\n",
       "      <td>electoral college</td>\n",
       "      <td>0.000455</td>\n",
       "      <td>0.000226</td>\n",
       "      <td>2.009091</td>\n",
       "    </tr>\n",
       "    <tr>\n",
       "      <th>12645</th>\n",
       "      <td>schooling</td>\n",
       "      <td>0.000455</td>\n",
       "      <td>0.000339</td>\n",
       "      <td>1.339394</td>\n",
       "    </tr>\n",
       "    <tr>\n",
       "      <th>5953</th>\n",
       "      <td>good new</td>\n",
       "      <td>0.000227</td>\n",
       "      <td>0.000339</td>\n",
       "      <td>0.669697</td>\n",
       "    </tr>\n",
       "    <tr>\n",
       "      <th>11598</th>\n",
       "      <td>pussy</td>\n",
       "      <td>0.005227</td>\n",
       "      <td>0.000566</td>\n",
       "      <td>9.241818</td>\n",
       "    </tr>\n",
       "    <tr>\n",
       "      <th>10836</th>\n",
       "      <td>perpetrated</td>\n",
       "      <td>0.000227</td>\n",
       "      <td>0.000339</td>\n",
       "      <td>0.669697</td>\n",
       "    </tr>\n",
       "    <tr>\n",
       "      <th>10321</th>\n",
       "      <td>ont</td>\n",
       "      <td>0.000227</td>\n",
       "      <td>0.000339</td>\n",
       "      <td>0.669697</td>\n",
       "    </tr>\n",
       "    <tr>\n",
       "      <th>12956</th>\n",
       "      <td>shit gotta</td>\n",
       "      <td>0.000682</td>\n",
       "      <td>0.000113</td>\n",
       "      <td>6.027273</td>\n",
       "    </tr>\n",
       "    <tr>\n",
       "      <th>4618</th>\n",
       "      <td>earn</td>\n",
       "      <td>0.000455</td>\n",
       "      <td>0.000339</td>\n",
       "      <td>1.339394</td>\n",
       "    </tr>\n",
       "    <tr>\n",
       "      <th>431</th>\n",
       "      <td>adult</td>\n",
       "      <td>0.001136</td>\n",
       "      <td>0.000905</td>\n",
       "      <td>1.255682</td>\n",
       "    </tr>\n",
       "    <tr>\n",
       "      <th>13064</th>\n",
       "      <td>sick amp</td>\n",
       "      <td>0.000455</td>\n",
       "      <td>0.000226</td>\n",
       "      <td>2.009091</td>\n",
       "    </tr>\n",
       "    <tr>\n",
       "      <th>13880</th>\n",
       "      <td>support stand</td>\n",
       "      <td>0.000455</td>\n",
       "      <td>0.000226</td>\n",
       "      <td>2.009091</td>\n",
       "    </tr>\n",
       "  </tbody>\n",
       "</table>\n",
       "</div>"
      ],
      "text/plain": [
       "                   token       OFF       NOT  OFF_ratio\n",
       "174                   39  0.000227  0.000452   0.502273\n",
       "10262           oh right  0.000455  0.000452   1.004545\n",
       "7754             kidding  0.000682  0.001471   0.463636\n",
       "5008           extra 2bn  0.000227  0.000339   0.669697\n",
       "4689   electoral college  0.000455  0.000226   2.009091\n",
       "12645          schooling  0.000455  0.000339   1.339394\n",
       "5953            good new  0.000227  0.000339   0.669697\n",
       "11598              pussy  0.005227  0.000566   9.241818\n",
       "10836        perpetrated  0.000227  0.000339   0.669697\n",
       "10321                ont  0.000227  0.000339   0.669697\n",
       "12956         shit gotta  0.000682  0.000113   6.027273\n",
       "4618                earn  0.000455  0.000339   1.339394\n",
       "431                adult  0.001136  0.000905   1.255682\n",
       "13064           sick amp  0.000455  0.000226   2.009091\n",
       "13880      support stand  0.000455  0.000226   2.009091"
      ]
     },
     "execution_count": 48,
     "metadata": {},
     "output_type": "execute_result"
    }
   ],
   "source": [
    "tokens['OFF_ratio'] = tokens.OFF /tokens.NOT\n",
    "tokens.sample(15, random_state=40)"
   ]
  },
  {
   "cell_type": "code",
   "execution_count": 49,
   "metadata": {},
   "outputs": [
    {
     "data": {
      "text/html": [
       "<div>\n",
       "<style scoped>\n",
       "    .dataframe tbody tr th:only-of-type {\n",
       "        vertical-align: middle;\n",
       "    }\n",
       "\n",
       "    .dataframe tbody tr th {\n",
       "        vertical-align: top;\n",
       "    }\n",
       "\n",
       "    .dataframe thead th {\n",
       "        text-align: right;\n",
       "    }\n",
       "</style>\n",
       "<table border=\"1\" class=\"dataframe\">\n",
       "  <thead>\n",
       "    <tr style=\"text-align: right;\">\n",
       "      <th></th>\n",
       "      <th>token</th>\n",
       "      <th>OFF</th>\n",
       "      <th>NOT</th>\n",
       "      <th>OFF_ratio</th>\n",
       "    </tr>\n",
       "  </thead>\n",
       "  <tbody>\n",
       "    <tr>\n",
       "      <th>1702</th>\n",
       "      <td>bitch</td>\n",
       "      <td>0.022500</td>\n",
       "      <td>0.000339</td>\n",
       "      <td>66.300000</td>\n",
       "    </tr>\n",
       "    <tr>\n",
       "      <th>15413</th>\n",
       "      <td>user bitch</td>\n",
       "      <td>0.005682</td>\n",
       "      <td>0.000113</td>\n",
       "      <td>50.227273</td>\n",
       "    </tr>\n",
       "    <tr>\n",
       "      <th>6939</th>\n",
       "      <td>idiot</td>\n",
       "      <td>0.012727</td>\n",
       "      <td>0.000339</td>\n",
       "      <td>37.503030</td>\n",
       "    </tr>\n",
       "    <tr>\n",
       "      <th>15776</th>\n",
       "      <td>user fuck</td>\n",
       "      <td>0.014545</td>\n",
       "      <td>0.000452</td>\n",
       "      <td>32.145455</td>\n",
       "    </tr>\n",
       "    <tr>\n",
       "      <th>5550</th>\n",
       "      <td>fuck</td>\n",
       "      <td>0.038636</td>\n",
       "      <td>0.001697</td>\n",
       "      <td>22.769697</td>\n",
       "    </tr>\n",
       "    <tr>\n",
       "      <th>...</th>\n",
       "      <td>...</td>\n",
       "      <td>...</td>\n",
       "      <td>...</td>\n",
       "      <td>...</td>\n",
       "    </tr>\n",
       "    <tr>\n",
       "      <th>15393</th>\n",
       "      <td>user beautiful</td>\n",
       "      <td>0.000455</td>\n",
       "      <td>0.003167</td>\n",
       "      <td>0.143506</td>\n",
       "    </tr>\n",
       "    <tr>\n",
       "      <th>1975</th>\n",
       "      <td>brexit</td>\n",
       "      <td>0.000909</td>\n",
       "      <td>0.006787</td>\n",
       "      <td>0.133939</td>\n",
       "    </tr>\n",
       "    <tr>\n",
       "      <th>2944</th>\n",
       "      <td>conservatives conservatives</td>\n",
       "      <td>0.000227</td>\n",
       "      <td>0.001810</td>\n",
       "      <td>0.125568</td>\n",
       "    </tr>\n",
       "    <tr>\n",
       "      <th>3024</th>\n",
       "      <td>conservatives url</td>\n",
       "      <td>0.000227</td>\n",
       "      <td>0.002828</td>\n",
       "      <td>0.080364</td>\n",
       "    </tr>\n",
       "    <tr>\n",
       "      <th>15401</th>\n",
       "      <td>user best</td>\n",
       "      <td>0.000227</td>\n",
       "      <td>0.004299</td>\n",
       "      <td>0.052871</td>\n",
       "    </tr>\n",
       "  </tbody>\n",
       "</table>\n",
       "<p>17746 rows × 4 columns</p>\n",
       "</div>"
      ],
      "text/plain": [
       "                             token       OFF       NOT  OFF_ratio\n",
       "1702                         bitch  0.022500  0.000339  66.300000\n",
       "15413                   user bitch  0.005682  0.000113  50.227273\n",
       "6939                         idiot  0.012727  0.000339  37.503030\n",
       "15776                    user fuck  0.014545  0.000452  32.145455\n",
       "5550                          fuck  0.038636  0.001697  22.769697\n",
       "...                            ...       ...       ...        ...\n",
       "15393               user beautiful  0.000455  0.003167   0.143506\n",
       "1975                        brexit  0.000909  0.006787   0.133939\n",
       "2944   conservatives conservatives  0.000227  0.001810   0.125568\n",
       "3024             conservatives url  0.000227  0.002828   0.080364\n",
       "15401                    user best  0.000227  0.004299   0.052871\n",
       "\n",
       "[17746 rows x 4 columns]"
      ]
     },
     "execution_count": 49,
     "metadata": {},
     "output_type": "execute_result"
    }
   ],
   "source": [
    "tokens.sort_values('OFF_ratio', ascending=False)"
   ]
  },
  {
   "cell_type": "code",
   "execution_count": 50,
   "metadata": {},
   "outputs": [],
   "source": [
    "%matplotlib notebook\n",
    "import matplotlib.pyplot as plt\n",
    "import matplotlib\n",
    "%matplotlib inline"
   ]
  },
  {
   "cell_type": "code",
   "execution_count": 51,
   "metadata": {},
   "outputs": [
    {
     "data": {
      "text/plain": [
       "<function matplotlib.pyplot.show(close=None, block=None)>"
      ]
     },
     "execution_count": 51,
     "metadata": {},
     "output_type": "execute_result"
    },
    {
     "data": {
      "image/png": "[encoded data removed]",
      "text/plain": [
       "<Figure size 432x288 with 1 Axes>"
      ]
     },
     "metadata": {
      "needs_background": "light"
     },
     "output_type": "display_data"
    }
   ],
   "source": [
    "plt.bar(['NB','LOG','SVM'],[nb_acc,log_acc,svm_acc])\n",
    "plt.ylim(0.7, 0.8)\n",
    "plt.show"
   ]
  },
  {
   "cell_type": "code",
   "execution_count": 52,
   "metadata": {},
   "outputs": [
    {
     "name": "stdout",
     "output_type": "stream",
     "text": [
      "CountVectorizer\t LogisticRegression\t MultinomialNB\t NOT_token_count\t OFF_token_count\t SGDClassifier\t labelsa\t log_acc\t logreg\t \n",
      "matplotlib\t metrics\t nb\t nb_acc\t obj_SVM\t obj_log\t obj_nb\t path\t pd\t \n",
      "plt\t sgdc\t svm_acc\t testset\t testseta\t tokens\t train_test_split\t vect\t x\t \n",
      "x_test\t x_test_dtm\t x_train_dtm\t x_train_tokens\t y\t y_pred_class\t y_pred_prob\t y_test\t \n"
     ]
    }
   ],
   "source": [
    "%who"
   ]
  },
  {
   "cell_type": "code",
   "execution_count": 53,
   "metadata": {},
   "outputs": [
    {
     "data": {
      "text/plain": [
       "<TimeitResult : 2.39 ms ± 15.7 µs per loop (mean ± std. dev. of 7 runs, 100 loops each)>"
      ]
     },
     "execution_count": 53,
     "metadata": {},
     "output_type": "execute_result"
    }
   ],
   "source": [
    "obj_nb"
   ]
  },
  {
   "cell_type": "code",
   "execution_count": 54,
   "metadata": {},
   "outputs": [
    {
     "data": {
      "text/plain": [
       "<TimeitResult : 1.04 s ± 20.6 ms per loop (mean ± std. dev. of 7 runs, 1 loop each)>"
      ]
     },
     "execution_count": 54,
     "metadata": {},
     "output_type": "execute_result"
    }
   ],
   "source": [
    "obj_log"
   ]
  },
  {
   "cell_type": "code",
   "execution_count": 55,
   "metadata": {},
   "outputs": [
    {
     "data": {
      "text/plain": [
       "<TimeitResult : 55.2 ms ± 2.2 ms per loop (mean ± std. dev. of 7 runs, 10 loops each)>"
      ]
     },
     "execution_count": 55,
     "metadata": {},
     "output_type": "execute_result"
    }
   ],
   "source": [
    "obj_SVM"
   ]
  },
  {
   "cell_type": "code",
   "execution_count": 56,
   "metadata": {},
   "outputs": [],
   "source": [
    "from sklearn.ensemble import GradientBoostingClassifier, RandomForestClassifier"
   ]
  },
  {
   "cell_type": "code",
   "execution_count": 57,
   "metadata": {},
   "outputs": [],
   "source": [
    "GBC = GradientBoostingClassifier()\n",
    "rfc = RandomForestClassifier()"
   ]
  },
  {
   "cell_type": "code",
   "execution_count": 58,
   "metadata": {},
   "outputs": [
    {
     "name": "stdout",
     "output_type": "stream",
     "text": [
      "1.89 s ± 23.5 ms per loop (mean ± std. dev. of 7 runs, 1 loop each)\n"
     ]
    }
   ],
   "source": [
    "obj_GBC = %timeit -o GBC.fit(x_train_dtm, y)"
   ]
  },
  {
   "cell_type": "code",
   "execution_count": 59,
   "metadata": {},
   "outputs": [],
   "source": [
    "y_pred_class = GBC.predict(x_test_dtm)\n",
    "GBC_acc = metrics.accuracy_score(y_test,y_pred_class)"
   ]
  },
  {
   "cell_type": "code",
   "execution_count": 60,
   "metadata": {},
   "outputs": [
    {
     "name": "stdout",
     "output_type": "stream",
     "text": [
      "14.5 s ± 86.2 ms per loop (mean ± std. dev. of 7 runs, 1 loop each)\n"
     ]
    }
   ],
   "source": [
    "obj_rfc = %timeit -o rfc.fit(x_train_dtm, y)\n",
    "y_pred_class = rfc.predict(x_test_dtm)\n",
    "rfc_acc = metrics.accuracy_score(y_test,y_pred_class)"
   ]
  },
  {
   "cell_type": "code",
   "execution_count": 63,
   "metadata": {},
   "outputs": [
    {
     "data": {
      "text/plain": [
       "<function matplotlib.pyplot.show(close=None, block=None)>"
      ]
     },
     "execution_count": 63,
     "metadata": {},
     "output_type": "execute_result"
    },
    {
     "data": {
      "image/png": "[encoded data removed]",
      "text/plain": [
       "<Figure size 432x288 with 1 Axes>"
      ]
     },
     "metadata": {
      "needs_background": "light"
     },
     "output_type": "display_data"
    }
   ],
   "source": [
    "plt.bar(['NB','LOG','SVM','GBC','rfc'],[nb_acc,log_acc,svm_acc,GBC_acc,rfc_acc])\n",
    "plt.ylim(0.7, 0.85)\n",
    "plt.show"
   ]
  },
  {
   "cell_type": "code",
   "execution_count": null,
   "metadata": {},
   "outputs": [],
   "source": []
  }
 ],
 "metadata": {
  "kernelspec": {
   "display_name": "Python 3",
   "language": "python",
   "name": "python3"
  },
  "language_info": {
   "codemirror_mode": {
    "name": "ipython",
    "version": 3
   },
   "file_extension": ".py",
   "mimetype": "text/x-python",
   "name": "python",
   "nbconvert_exporter": "python",
   "pygments_lexer": "ipython3",
   "version": "3.8.5"
  }
 },
 "nbformat": 4,
 "nbformat_minor": 4
}
