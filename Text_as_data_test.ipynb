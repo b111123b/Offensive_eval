{
 "cells": [
  {
   "cell_type": "markdown",
   "metadata": {},
   "source": [
    "# OffensiveEval NB initial work\n",
    "So the work im gonna do in this notebook is just exploritory and is mostly about getting to grips with the data set and juypyter\n",
    "\n",
    "So the things im going to try and do in this notebook:\n",
    "* load in the dataset\n",
    "* turn the dataset into a document term matrix (dtm)\n",
    "* train a naive bayes model and evaluate results\n",
    "\n",
    "After i get these things done i'll try to:\n",
    "* test out some other models\n",
    "* experiment with basic tuning for models and vectorizer\n",
    "* get some graphs into the notebook to compare models\n",
    "* explore how models work more to understand how to make more accurate\n",
    "\n",
    "## Part 1"
   ]
  },
  {
   "cell_type": "code",
   "execution_count": 1,
   "metadata": {},
   "outputs": [],
   "source": [
    "from sklearn.feature_extraction.text import CountVectorizer\n",
    "import pandas as pd\n",
    "from sklearn.metrics import f1_score, precision_score, recall_score\n"
   ]
  },
  {
   "cell_type": "code",
   "execution_count": 2,
   "metadata": {},
   "outputs": [],
   "source": [
    "path = 'data/olid-training-v2.0.tsv'\n",
    "testset = pd.read_table(path, header=None, names=['id','tweet','sub_a','sub_b','sub_c'])\n",
    "path = 'data/testset-levela_noheader.tsv'\n",
    "testseta = pd.read_table(path, header=None, names=['id','tweet'])\n",
    "labelsa = pd.read_csv('data/labels-levela.csv',header=None, names=['id','sub_a'])"
   ]
  },
  {
   "cell_type": "code",
   "execution_count": 3,
   "metadata": {},
   "outputs": [
    {
     "data": {
      "text/html": [
       "<div>\n",
       "<style scoped>\n",
       "    .dataframe tbody tr th:only-of-type {\n",
       "        vertical-align: middle;\n",
       "    }\n",
       "\n",
       "    .dataframe tbody tr th {\n",
       "        vertical-align: top;\n",
       "    }\n",
       "\n",
       "    .dataframe thead th {\n",
       "        text-align: right;\n",
       "    }\n",
       "</style>\n",
       "<table border=\"1\" class=\"dataframe\">\n",
       "  <thead>\n",
       "    <tr style=\"text-align: right;\">\n",
       "      <th></th>\n",
       "      <th>id</th>\n",
       "      <th>tweet</th>\n",
       "      <th>sub_a</th>\n",
       "      <th>sub_b</th>\n",
       "      <th>sub_c</th>\n",
       "    </tr>\n",
       "  </thead>\n",
       "  <tbody>\n",
       "    <tr>\n",
       "      <th>0</th>\n",
       "      <td>86426</td>\n",
       "      <td>@USER She should ask a few native Americans wh...</td>\n",
       "      <td>OFF</td>\n",
       "      <td>UNT</td>\n",
       "      <td>NaN</td>\n",
       "    </tr>\n",
       "    <tr>\n",
       "      <th>1</th>\n",
       "      <td>90194</td>\n",
       "      <td>@USER @USER Go home you’re drunk!!! @USER #MAG...</td>\n",
       "      <td>OFF</td>\n",
       "      <td>TIN</td>\n",
       "      <td>IND</td>\n",
       "    </tr>\n",
       "    <tr>\n",
       "      <th>2</th>\n",
       "      <td>16820</td>\n",
       "      <td>Amazon is investigating Chinese employees who ...</td>\n",
       "      <td>NOT</td>\n",
       "      <td>NaN</td>\n",
       "      <td>NaN</td>\n",
       "    </tr>\n",
       "    <tr>\n",
       "      <th>3</th>\n",
       "      <td>62688</td>\n",
       "      <td>@USER Someone should'veTaken\" this piece of sh...</td>\n",
       "      <td>OFF</td>\n",
       "      <td>UNT</td>\n",
       "      <td>NaN</td>\n",
       "    </tr>\n",
       "    <tr>\n",
       "      <th>4</th>\n",
       "      <td>43605</td>\n",
       "      <td>@USER @USER Obama wanted liberals &amp;amp; illega...</td>\n",
       "      <td>NOT</td>\n",
       "      <td>NaN</td>\n",
       "      <td>NaN</td>\n",
       "    </tr>\n",
       "  </tbody>\n",
       "</table>\n",
       "</div>"
      ],
      "text/plain": [
       "      id                                              tweet sub_a sub_b sub_c\n",
       "0  86426  @USER She should ask a few native Americans wh...   OFF   UNT   NaN\n",
       "1  90194  @USER @USER Go home you’re drunk!!! @USER #MAG...   OFF   TIN   IND\n",
       "2  16820  Amazon is investigating Chinese employees who ...   NOT   NaN   NaN\n",
       "3  62688  @USER Someone should'veTaken\" this piece of sh...   OFF   UNT   NaN\n",
       "4  43605  @USER @USER Obama wanted liberals &amp; illega...   NOT   NaN   NaN"
      ]
     },
     "execution_count": 3,
     "metadata": {},
     "output_type": "execute_result"
    }
   ],
   "source": [
    "testset.head(5)"
   ]
  },
  {
   "cell_type": "code",
   "execution_count": 4,
   "metadata": {},
   "outputs": [
    {
     "data": {
      "text/plain": [
       "NOT    8840\n",
       "OFF    4400\n",
       "Name: sub_a, dtype: int64"
      ]
     },
     "execution_count": 4,
     "metadata": {},
     "output_type": "execute_result"
    }
   ],
   "source": [
    "testset.sub_a.value_counts()"
   ]
  },
  {
   "cell_type": "code",
   "execution_count": 5,
   "metadata": {},
   "outputs": [],
   "source": [
    "testset['label_a_num'] = testset.sub_a.map({'NOT':0, 'OFF':1})"
   ]
  },
  {
   "cell_type": "code",
   "execution_count": 6,
   "metadata": {},
   "outputs": [
    {
     "data": {
      "text/html": [
       "<div>\n",
       "<style scoped>\n",
       "    .dataframe tbody tr th:only-of-type {\n",
       "        vertical-align: middle;\n",
       "    }\n",
       "\n",
       "    .dataframe tbody tr th {\n",
       "        vertical-align: top;\n",
       "    }\n",
       "\n",
       "    .dataframe thead th {\n",
       "        text-align: right;\n",
       "    }\n",
       "</style>\n",
       "<table border=\"1\" class=\"dataframe\">\n",
       "  <thead>\n",
       "    <tr style=\"text-align: right;\">\n",
       "      <th></th>\n",
       "      <th>id</th>\n",
       "      <th>sub_a</th>\n",
       "    </tr>\n",
       "  </thead>\n",
       "  <tbody>\n",
       "    <tr>\n",
       "      <th>0</th>\n",
       "      <td>15923</td>\n",
       "      <td>OFF</td>\n",
       "    </tr>\n",
       "    <tr>\n",
       "      <th>1</th>\n",
       "      <td>27014</td>\n",
       "      <td>NOT</td>\n",
       "    </tr>\n",
       "    <tr>\n",
       "      <th>2</th>\n",
       "      <td>30530</td>\n",
       "      <td>NOT</td>\n",
       "    </tr>\n",
       "    <tr>\n",
       "      <th>3</th>\n",
       "      <td>13876</td>\n",
       "      <td>NOT</td>\n",
       "    </tr>\n",
       "    <tr>\n",
       "      <th>4</th>\n",
       "      <td>60133</td>\n",
       "      <td>OFF</td>\n",
       "    </tr>\n",
       "    <tr>\n",
       "      <th>...</th>\n",
       "      <td>...</td>\n",
       "      <td>...</td>\n",
       "    </tr>\n",
       "    <tr>\n",
       "      <th>855</th>\n",
       "      <td>73439</td>\n",
       "      <td>OFF</td>\n",
       "    </tr>\n",
       "    <tr>\n",
       "      <th>856</th>\n",
       "      <td>25657</td>\n",
       "      <td>NOT</td>\n",
       "    </tr>\n",
       "    <tr>\n",
       "      <th>857</th>\n",
       "      <td>67018</td>\n",
       "      <td>OFF</td>\n",
       "    </tr>\n",
       "    <tr>\n",
       "      <th>858</th>\n",
       "      <td>50665</td>\n",
       "      <td>NOT</td>\n",
       "    </tr>\n",
       "    <tr>\n",
       "      <th>859</th>\n",
       "      <td>24583</td>\n",
       "      <td>NOT</td>\n",
       "    </tr>\n",
       "  </tbody>\n",
       "</table>\n",
       "<p>860 rows × 2 columns</p>\n",
       "</div>"
      ],
      "text/plain": [
       "        id sub_a\n",
       "0    15923   OFF\n",
       "1    27014   NOT\n",
       "2    30530   NOT\n",
       "3    13876   NOT\n",
       "4    60133   OFF\n",
       "..     ...   ...\n",
       "855  73439   OFF\n",
       "856  25657   NOT\n",
       "857  67018   OFF\n",
       "858  50665   NOT\n",
       "859  24583   NOT\n",
       "\n",
       "[860 rows x 2 columns]"
      ]
     },
     "execution_count": 6,
     "metadata": {},
     "output_type": "execute_result"
    }
   ],
   "source": [
    "labelsa"
   ]
  },
  {
   "cell_type": "code",
   "execution_count": 7,
   "metadata": {},
   "outputs": [],
   "source": [
    "labelsa['label_a_num'] = labelsa.sub_a.map({'NOT':0, 'OFF':1})"
   ]
  },
  {
   "cell_type": "code",
   "execution_count": 8,
   "metadata": {},
   "outputs": [
    {
     "data": {
      "text/html": [
       "<div>\n",
       "<style scoped>\n",
       "    .dataframe tbody tr th:only-of-type {\n",
       "        vertical-align: middle;\n",
       "    }\n",
       "\n",
       "    .dataframe tbody tr th {\n",
       "        vertical-align: top;\n",
       "    }\n",
       "\n",
       "    .dataframe thead th {\n",
       "        text-align: right;\n",
       "    }\n",
       "</style>\n",
       "<table border=\"1\" class=\"dataframe\">\n",
       "  <thead>\n",
       "    <tr style=\"text-align: right;\">\n",
       "      <th></th>\n",
       "      <th>id</th>\n",
       "      <th>sub_a</th>\n",
       "      <th>label_a_num</th>\n",
       "    </tr>\n",
       "  </thead>\n",
       "  <tbody>\n",
       "    <tr>\n",
       "      <th>0</th>\n",
       "      <td>15923</td>\n",
       "      <td>OFF</td>\n",
       "      <td>1</td>\n",
       "    </tr>\n",
       "    <tr>\n",
       "      <th>1</th>\n",
       "      <td>27014</td>\n",
       "      <td>NOT</td>\n",
       "      <td>0</td>\n",
       "    </tr>\n",
       "    <tr>\n",
       "      <th>2</th>\n",
       "      <td>30530</td>\n",
       "      <td>NOT</td>\n",
       "      <td>0</td>\n",
       "    </tr>\n",
       "    <tr>\n",
       "      <th>3</th>\n",
       "      <td>13876</td>\n",
       "      <td>NOT</td>\n",
       "      <td>0</td>\n",
       "    </tr>\n",
       "    <tr>\n",
       "      <th>4</th>\n",
       "      <td>60133</td>\n",
       "      <td>OFF</td>\n",
       "      <td>1</td>\n",
       "    </tr>\n",
       "    <tr>\n",
       "      <th>...</th>\n",
       "      <td>...</td>\n",
       "      <td>...</td>\n",
       "      <td>...</td>\n",
       "    </tr>\n",
       "    <tr>\n",
       "      <th>855</th>\n",
       "      <td>73439</td>\n",
       "      <td>OFF</td>\n",
       "      <td>1</td>\n",
       "    </tr>\n",
       "    <tr>\n",
       "      <th>856</th>\n",
       "      <td>25657</td>\n",
       "      <td>NOT</td>\n",
       "      <td>0</td>\n",
       "    </tr>\n",
       "    <tr>\n",
       "      <th>857</th>\n",
       "      <td>67018</td>\n",
       "      <td>OFF</td>\n",
       "      <td>1</td>\n",
       "    </tr>\n",
       "    <tr>\n",
       "      <th>858</th>\n",
       "      <td>50665</td>\n",
       "      <td>NOT</td>\n",
       "      <td>0</td>\n",
       "    </tr>\n",
       "    <tr>\n",
       "      <th>859</th>\n",
       "      <td>24583</td>\n",
       "      <td>NOT</td>\n",
       "      <td>0</td>\n",
       "    </tr>\n",
       "  </tbody>\n",
       "</table>\n",
       "<p>860 rows × 3 columns</p>\n",
       "</div>"
      ],
      "text/plain": [
       "        id sub_a  label_a_num\n",
       "0    15923   OFF            1\n",
       "1    27014   NOT            0\n",
       "2    30530   NOT            0\n",
       "3    13876   NOT            0\n",
       "4    60133   OFF            1\n",
       "..     ...   ...          ...\n",
       "855  73439   OFF            1\n",
       "856  25657   NOT            0\n",
       "857  67018   OFF            1\n",
       "858  50665   NOT            0\n",
       "859  24583   NOT            0\n",
       "\n",
       "[860 rows x 3 columns]"
      ]
     },
     "execution_count": 8,
     "metadata": {},
     "output_type": "execute_result"
    }
   ],
   "source": [
    "labelsa"
   ]
  },
  {
   "cell_type": "code",
   "execution_count": 9,
   "metadata": {},
   "outputs": [
    {
     "data": {
      "text/html": [
       "<div>\n",
       "<style scoped>\n",
       "    .dataframe tbody tr th:only-of-type {\n",
       "        vertical-align: middle;\n",
       "    }\n",
       "\n",
       "    .dataframe tbody tr th {\n",
       "        vertical-align: top;\n",
       "    }\n",
       "\n",
       "    .dataframe thead th {\n",
       "        text-align: right;\n",
       "    }\n",
       "</style>\n",
       "<table border=\"1\" class=\"dataframe\">\n",
       "  <thead>\n",
       "    <tr style=\"text-align: right;\">\n",
       "      <th></th>\n",
       "      <th>id</th>\n",
       "      <th>tweet</th>\n",
       "      <th>sub_a</th>\n",
       "      <th>sub_b</th>\n",
       "      <th>sub_c</th>\n",
       "      <th>label_a_num</th>\n",
       "    </tr>\n",
       "  </thead>\n",
       "  <tbody>\n",
       "    <tr>\n",
       "      <th>0</th>\n",
       "      <td>86426</td>\n",
       "      <td>@USER She should ask a few native Americans wh...</td>\n",
       "      <td>OFF</td>\n",
       "      <td>UNT</td>\n",
       "      <td>NaN</td>\n",
       "      <td>1</td>\n",
       "    </tr>\n",
       "    <tr>\n",
       "      <th>1</th>\n",
       "      <td>90194</td>\n",
       "      <td>@USER @USER Go home you’re drunk!!! @USER #MAG...</td>\n",
       "      <td>OFF</td>\n",
       "      <td>TIN</td>\n",
       "      <td>IND</td>\n",
       "      <td>1</td>\n",
       "    </tr>\n",
       "    <tr>\n",
       "      <th>2</th>\n",
       "      <td>16820</td>\n",
       "      <td>Amazon is investigating Chinese employees who ...</td>\n",
       "      <td>NOT</td>\n",
       "      <td>NaN</td>\n",
       "      <td>NaN</td>\n",
       "      <td>0</td>\n",
       "    </tr>\n",
       "    <tr>\n",
       "      <th>3</th>\n",
       "      <td>62688</td>\n",
       "      <td>@USER Someone should'veTaken\" this piece of sh...</td>\n",
       "      <td>OFF</td>\n",
       "      <td>UNT</td>\n",
       "      <td>NaN</td>\n",
       "      <td>1</td>\n",
       "    </tr>\n",
       "    <tr>\n",
       "      <th>4</th>\n",
       "      <td>43605</td>\n",
       "      <td>@USER @USER Obama wanted liberals &amp;amp; illega...</td>\n",
       "      <td>NOT</td>\n",
       "      <td>NaN</td>\n",
       "      <td>NaN</td>\n",
       "      <td>0</td>\n",
       "    </tr>\n",
       "    <tr>\n",
       "      <th>5</th>\n",
       "      <td>97670</td>\n",
       "      <td>@USER Liberals are all Kookoo !!!</td>\n",
       "      <td>OFF</td>\n",
       "      <td>TIN</td>\n",
       "      <td>OTH</td>\n",
       "      <td>1</td>\n",
       "    </tr>\n",
       "    <tr>\n",
       "      <th>6</th>\n",
       "      <td>77444</td>\n",
       "      <td>@USER @USER Oh noes! Tough shit.</td>\n",
       "      <td>OFF</td>\n",
       "      <td>UNT</td>\n",
       "      <td>NaN</td>\n",
       "      <td>1</td>\n",
       "    </tr>\n",
       "    <tr>\n",
       "      <th>7</th>\n",
       "      <td>52415</td>\n",
       "      <td>@USER was literally just talking about this lo...</td>\n",
       "      <td>OFF</td>\n",
       "      <td>TIN</td>\n",
       "      <td>GRP</td>\n",
       "      <td>1</td>\n",
       "    </tr>\n",
       "    <tr>\n",
       "      <th>8</th>\n",
       "      <td>45157</td>\n",
       "      <td>@USER Buy more icecream!!!</td>\n",
       "      <td>NOT</td>\n",
       "      <td>NaN</td>\n",
       "      <td>NaN</td>\n",
       "      <td>0</td>\n",
       "    </tr>\n",
       "    <tr>\n",
       "      <th>9</th>\n",
       "      <td>13384</td>\n",
       "      <td>@USER Canada doesn’t need another CUCK! We alr...</td>\n",
       "      <td>OFF</td>\n",
       "      <td>TIN</td>\n",
       "      <td>IND</td>\n",
       "      <td>1</td>\n",
       "    </tr>\n",
       "  </tbody>\n",
       "</table>\n",
       "</div>"
      ],
      "text/plain": [
       "      id                                              tweet sub_a sub_b sub_c  \\\n",
       "0  86426  @USER She should ask a few native Americans wh...   OFF   UNT   NaN   \n",
       "1  90194  @USER @USER Go home you’re drunk!!! @USER #MAG...   OFF   TIN   IND   \n",
       "2  16820  Amazon is investigating Chinese employees who ...   NOT   NaN   NaN   \n",
       "3  62688  @USER Someone should'veTaken\" this piece of sh...   OFF   UNT   NaN   \n",
       "4  43605  @USER @USER Obama wanted liberals &amp; illega...   NOT   NaN   NaN   \n",
       "5  97670                  @USER Liberals are all Kookoo !!!   OFF   TIN   OTH   \n",
       "6  77444                   @USER @USER Oh noes! Tough shit.   OFF   UNT   NaN   \n",
       "7  52415  @USER was literally just talking about this lo...   OFF   TIN   GRP   \n",
       "8  45157                         @USER Buy more icecream!!!   NOT   NaN   NaN   \n",
       "9  13384  @USER Canada doesn’t need another CUCK! We alr...   OFF   TIN   IND   \n",
       "\n",
       "   label_a_num  \n",
       "0            1  \n",
       "1            1  \n",
       "2            0  \n",
       "3            1  \n",
       "4            0  \n",
       "5            1  \n",
       "6            1  \n",
       "7            1  \n",
       "8            0  \n",
       "9            1  "
      ]
     },
     "execution_count": 9,
     "metadata": {},
     "output_type": "execute_result"
    }
   ],
   "source": [
    "testset.head(10)"
   ]
  },
  {
   "cell_type": "code",
   "execution_count": 10,
   "metadata": {},
   "outputs": [
    {
     "name": "stdout",
     "output_type": "stream",
     "text": [
      "(13240,)\n",
      "(13240,)\n"
     ]
    }
   ],
   "source": [
    "x = testset.tweet\n",
    "y = testset.label_a_num\n",
    "print(x.shape)\n",
    "print(y.shape)"
   ]
  },
  {
   "cell_type": "code",
   "execution_count": 11,
   "metadata": {},
   "outputs": [],
   "source": [
    "from sklearn.model_selection import train_test_split"
   ]
  },
  {
   "cell_type": "code",
   "execution_count": 12,
   "metadata": {},
   "outputs": [],
   "source": [
    "# x_train, x_test, y_train, y_test = train_test_split(x,y,random_state=1)"
   ]
  },
  {
   "cell_type": "code",
   "execution_count": 13,
   "metadata": {},
   "outputs": [],
   "source": [
    "# print(x_train.shape)\n",
    "# print(x_test.shape)\n",
    "# print(y_train.shape)\n",
    "# print(y_test.shape)\n"
   ]
  },
  {
   "cell_type": "code",
   "execution_count": 14,
   "metadata": {},
   "outputs": [],
   "source": [
    "x_test = testseta.tweet\n",
    "y_test = labelsa.label_a_num"
   ]
  },
  {
   "cell_type": "code",
   "execution_count": 15,
   "metadata": {},
   "outputs": [],
   "source": [
    "vect = CountVectorizer(stop_words='english', ngram_range=(1, 2), min_df=2)"
   ]
  },
  {
   "cell_type": "code",
   "execution_count": 16,
   "metadata": {},
   "outputs": [],
   "source": [
    "x_train_dtm = vect.fit_transform(x)"
   ]
  },
  {
   "cell_type": "code",
   "execution_count": 17,
   "metadata": {},
   "outputs": [
    {
     "data": {
      "text/plain": [
       "<13240x17746 sparse matrix of type '<class 'numpy.int64'>'\n",
       "\twith 165863 stored elements in Compressed Sparse Row format>"
      ]
     },
     "execution_count": 17,
     "metadata": {},
     "output_type": "execute_result"
    }
   ],
   "source": [
    "x_train_dtm"
   ]
  },
  {
   "cell_type": "code",
   "execution_count": 18,
   "metadata": {},
   "outputs": [
    {
     "data": {
      "text/plain": [
       "<860x17746 sparse matrix of type '<class 'numpy.int64'>'\n",
       "\twith 9972 stored elements in Compressed Sparse Row format>"
      ]
     },
     "execution_count": 18,
     "metadata": {},
     "output_type": "execute_result"
    }
   ],
   "source": [
    "x_test_dtm = vect.transform(x_test)\n",
    "x_test_dtm"
   ]
  },
  {
   "cell_type": "code",
   "execution_count": 19,
   "metadata": {},
   "outputs": [],
   "source": [
    "from sklearn.naive_bayes import MultinomialNB\n",
    "nb = MultinomialNB()"
   ]
  },
  {
   "cell_type": "code",
   "execution_count": 20,
   "metadata": {},
   "outputs": [
    {
     "name": "stdout",
     "output_type": "stream",
     "text": [
      "2.63 ms ± 71.8 µs per loop (mean ± std. dev. of 7 runs, 100 loops each)\n"
     ]
    }
   ],
   "source": [
    "obj_nb = %timeit -o nb.fit(x_train_dtm, y)"
   ]
  },
  {
   "cell_type": "code",
   "execution_count": 21,
   "metadata": {},
   "outputs": [],
   "source": [
    "y_pred_class = nb.predict(x_test_dtm)"
   ]
  },
  {
   "cell_type": "code",
   "execution_count": 22,
   "metadata": {},
   "outputs": [
    {
     "data": {
      "text/plain": [
       "0.7732558139534884"
      ]
     },
     "execution_count": 22,
     "metadata": {},
     "output_type": "execute_result"
    }
   ],
   "source": [
    "from sklearn import metrics\n",
    "nb_acc = metrics.accuracy_score(y_test, y_pred_class)\n",
    "nb_acc"
   ]
  },
  {
   "cell_type": "code",
   "execution_count": 23,
   "metadata": {},
   "outputs": [
    {
     "data": {
      "text/plain": [
       "array([[512, 108],\n",
       "       [ 87, 153]], dtype=int64)"
      ]
     },
     "execution_count": 23,
     "metadata": {},
     "output_type": "execute_result"
    }
   ],
   "source": [
    "metrics.confusion_matrix(y_test, y_pred_class)"
   ]
  },
  {
   "cell_type": "code",
   "execution_count": 24,
   "metadata": {},
   "outputs": [
    {
     "data": {
      "text/plain": [
       "6      #RAP is a form of ART! Used to express yoursel...\n",
       "11     𝓒-𝓒𝓮𝓭𝓻𝓪𝓷..  The Nord cannot make a single move...\n",
       "12       #ConsTOO THE PLACE FOR FED UP CONSERVATIVES !!!\n",
       "18     #Dallas#Policewoman kills neighbor in HIS own ...\n",
       "23     #SilsilaBadallteRishtonKa tag is filled with a...\n",
       "                             ...                        \n",
       "806    @USER I see your point but the school shooting...\n",
       "809    @USER @USER I agree with you. Read the first p...\n",
       "815    #LifeIsButepu when your friends dont know you ...\n",
       "837    @USER Laws are for the law abiding citizens. W...\n",
       "858    #WednesdayWisdom Antifa calls the right fascis...\n",
       "Name: tweet, Length: 108, dtype: object"
      ]
     },
     "execution_count": 24,
     "metadata": {},
     "output_type": "execute_result"
    }
   ],
   "source": [
    "x_test[(y_pred_class==1) & (y_test==0)]"
   ]
  },
  {
   "cell_type": "code",
   "execution_count": 25,
   "metadata": {},
   "outputs": [
    {
     "data": {
      "text/plain": [
       "4      #NoPasaran: Unity demo to oppose the far-right...\n",
       "7      @USER Do you get the feeling he is kissing @US...\n",
       "30     #ChristineBlaseyFord is your #Kavanaugh accuse...\n",
       "43     @USER @USER @USER @USER @USER @USER @USER @USE...\n",
       "61     #Antifa: Take note of how to protest with civi...\n",
       "                             ...                        \n",
       "786    #EuropaLeague Song the EU, cash your remaining...\n",
       "800    #Kavanaugh The moment #BlaseyFord is exposed a...\n",
       "810    #BCOG @USER she is cool, confident, cocky, and...\n",
       "826    #auspol  I don't know why he is still in his j...\n",
       "834    @USER @USER @USER @USER Beats the hell NJ out ...\n",
       "Name: tweet, Length: 87, dtype: object"
      ]
     },
     "execution_count": 25,
     "metadata": {},
     "output_type": "execute_result"
    }
   ],
   "source": [
    "x_test[(y_pred_class==0) & (y_test==1)]"
   ]
  },
  {
   "cell_type": "code",
   "execution_count": 26,
   "metadata": {},
   "outputs": [],
   "source": [
    "y_pred_prob = nb.predict_proba(x_test_dtm)[:,1]"
   ]
  },
  {
   "cell_type": "code",
   "execution_count": 27,
   "metadata": {},
   "outputs": [
    {
     "data": {
      "text/plain": [
       "0.7935853494623655"
      ]
     },
     "execution_count": 27,
     "metadata": {},
     "output_type": "execute_result"
    }
   ],
   "source": [
    "metrics.roc_auc_score(y_test, y_pred_prob)"
   ]
  },
  {
   "cell_type": "markdown",
   "metadata": {
    "tags": [
     "Text"
    ]
   },
   "source": [
    "# Part 2\n",
    "Okay so i got the notebook working well and also was able to use the data set and naive bayes.\n",
    "\n",
    "Now im gonna try some other models so i can compare them, after that might try and look into why the accuracy was so low for NB"
   ]
  },
  {
   "cell_type": "code",
   "execution_count": 28,
   "metadata": {},
   "outputs": [],
   "source": [
    "from sklearn.linear_model  import LogisticRegression, SGDClassifier\n",
    "logreg = LogisticRegression(max_iter=10000)\n",
    "sgdc = SGDClassifier()"
   ]
  },
  {
   "cell_type": "code",
   "execution_count": 29,
   "metadata": {},
   "outputs": [
    {
     "name": "stdout",
     "output_type": "stream",
     "text": [
      "1.14 s ± 8.08 ms per loop (mean ± std. dev. of 7 runs, 1 loop each)\n"
     ]
    }
   ],
   "source": [
    "obj_log = %timeit -o logreg.fit(x_train_dtm, y)"
   ]
  },
  {
   "cell_type": "code",
   "execution_count": 30,
   "metadata": {},
   "outputs": [],
   "source": [
    "y_pred_class = logreg.predict(x_test_dtm)"
   ]
  },
  {
   "cell_type": "code",
   "execution_count": 31,
   "metadata": {},
   "outputs": [],
   "source": [
    "y_pred_prob = logreg.predict_proba(x_test_dtm)[:,1]"
   ]
  },
  {
   "cell_type": "code",
   "execution_count": 32,
   "metadata": {},
   "outputs": [],
   "source": [
    "log_acc = metrics.accuracy_score(y_test, y_pred_class)"
   ]
  },
  {
   "cell_type": "code",
   "execution_count": 33,
   "metadata": {},
   "outputs": [
    {
     "data": {
      "text/plain": [
       "0.797557123655914"
      ]
     },
     "execution_count": 33,
     "metadata": {},
     "output_type": "execute_result"
    }
   ],
   "source": [
    "metrics.roc_auc_score(y_test, y_pred_prob)"
   ]
  },
  {
   "cell_type": "code",
   "execution_count": 34,
   "metadata": {},
   "outputs": [
    {
     "name": "stdout",
     "output_type": "stream",
     "text": [
      "59.8 ms ± 4.84 ms per loop (mean ± std. dev. of 7 runs, 10 loops each)\n"
     ]
    }
   ],
   "source": [
    "obj_SVM = %timeit -o sgdc.fit(x_train_dtm, y)"
   ]
  },
  {
   "cell_type": "code",
   "execution_count": 35,
   "metadata": {},
   "outputs": [],
   "source": [
    "y_pred_class = sgdc.predict(x_test_dtm)\n",
    "svm_acc = metrics.accuracy_score(y_test,y_pred_class)"
   ]
  },
  {
   "cell_type": "code",
   "execution_count": 36,
   "metadata": {},
   "outputs": [
    {
     "data": {
      "text/plain": [
       "17746"
      ]
     },
     "execution_count": 36,
     "metadata": {},
     "output_type": "execute_result"
    }
   ],
   "source": [
    "x_train_tokens = vect.get_feature_names()\n",
    "len(x_train_tokens)"
   ]
  },
  {
   "cell_type": "code",
   "execution_count": 37,
   "metadata": {},
   "outputs": [
    {
     "name": "stdout",
     "output_type": "stream",
     "text": [
      "['00', '000', '05', '08', '08 12', '08 18', '09', '09 08', '09 14', '10', '10 20', '10 century', '10 cities', '10 mile', '10 million', '10 signs', '10 years', '100', '100 agree', '100 correct', '100 percent', '100 right', '1000', '100s', '101', '102', '10th', '10x', '10yrs', '11', '11 year', '110', '11th', '11th hour', '12', '12 gauge', '13', '13 killers', '1300', '1300 pump', '14', '14 23', '14th', '15', '15 concert', '15 fully', '15 min', '15 minutes', '15 year', '15 years']\n"
     ]
    }
   ],
   "source": [
    "print(x_train_tokens[0:50])"
   ]
  },
  {
   "cell_type": "code",
   "execution_count": 38,
   "metadata": {},
   "outputs": [
    {
     "name": "stdout",
     "output_type": "stream",
     "text": [
      "['youll', 'young', 'young age', 'young conservatives', 'young dumb', 'young fascists', 'young lady', 'young man', 'young men', 'young minds', 'young people', 'young woman', 'younger', 'youre', 'youth', 'youth activists', 'youth invasion', 'youthful', 'youtube', 'youtube url', 'youtuber', 'youuuu', 'yr', 'yr old', 'yrs', 'yrs ago', 'yrs later', 'yuge', 'yup', 'zealand', 'zealots', 'zero', 'zero accomplishments', 'zero credibility', 'zero evidence', 'zim', 'zimmerman', 'zionists', 'zoe', 'zombie', 'zombie url', 'zone', 'zones', 'zones don', 'zuckerberg', '너의존재가_기적이야', '너의존재가_기적이야 url', '현재', '현재 gt', '현재 ll']\n"
     ]
    }
   ],
   "source": [
    "print(x_train_tokens[-50:])"
   ]
  },
  {
   "cell_type": "code",
   "execution_count": 39,
   "metadata": {},
   "outputs": [
    {
     "data": {
      "text/plain": [
       "array([[2., 3., 1., ..., 5., 2., 2.],\n",
       "       [0., 0., 1., ..., 0., 0., 0.]])"
      ]
     },
     "execution_count": 39,
     "metadata": {},
     "output_type": "execute_result"
    }
   ],
   "source": [
    "nb.feature_count_"
   ]
  },
  {
   "cell_type": "code",
   "execution_count": 40,
   "metadata": {},
   "outputs": [
    {
     "data": {
      "text/plain": [
       "(2, 17746)"
      ]
     },
     "execution_count": 40,
     "metadata": {},
     "output_type": "execute_result"
    }
   ],
   "source": [
    "nb.feature_count_.shape"
   ]
  },
  {
   "cell_type": "code",
   "execution_count": 41,
   "metadata": {},
   "outputs": [
    {
     "data": {
      "text/plain": [
       "array([0., 0., 1., ..., 0., 0., 0.])"
      ]
     },
     "execution_count": 41,
     "metadata": {},
     "output_type": "execute_result"
    }
   ],
   "source": [
    "OFF_token_count = nb.feature_count_[1,:]\n",
    "OFF_token_count"
   ]
  },
  {
   "cell_type": "code",
   "execution_count": 42,
   "metadata": {},
   "outputs": [
    {
     "data": {
      "text/plain": [
       "array([2., 3., 1., ..., 5., 2., 2.])"
      ]
     },
     "execution_count": 42,
     "metadata": {},
     "output_type": "execute_result"
    }
   ],
   "source": [
    "NOT_token_count = nb.feature_count_[0,:]\n",
    "NOT_token_count"
   ]
  },
  {
   "cell_type": "code",
   "execution_count": 43,
   "metadata": {},
   "outputs": [
    {
     "data": {
      "text/html": [
       "<div>\n",
       "<style scoped>\n",
       "    .dataframe tbody tr th:only-of-type {\n",
       "        vertical-align: middle;\n",
       "    }\n",
       "\n",
       "    .dataframe tbody tr th {\n",
       "        vertical-align: top;\n",
       "    }\n",
       "\n",
       "    .dataframe thead th {\n",
       "        text-align: right;\n",
       "    }\n",
       "</style>\n",
       "<table border=\"1\" class=\"dataframe\">\n",
       "  <thead>\n",
       "    <tr style=\"text-align: right;\">\n",
       "      <th></th>\n",
       "      <th>token</th>\n",
       "      <th>OFF</th>\n",
       "      <th>NOT</th>\n",
       "    </tr>\n",
       "  </thead>\n",
       "  <tbody>\n",
       "    <tr>\n",
       "      <th>0</th>\n",
       "      <td>00</td>\n",
       "      <td>0.0</td>\n",
       "      <td>2.0</td>\n",
       "    </tr>\n",
       "    <tr>\n",
       "      <th>1</th>\n",
       "      <td>000</td>\n",
       "      <td>0.0</td>\n",
       "      <td>3.0</td>\n",
       "    </tr>\n",
       "    <tr>\n",
       "      <th>2</th>\n",
       "      <td>05</td>\n",
       "      <td>1.0</td>\n",
       "      <td>1.0</td>\n",
       "    </tr>\n",
       "    <tr>\n",
       "      <th>3</th>\n",
       "      <td>08</td>\n",
       "      <td>0.0</td>\n",
       "      <td>6.0</td>\n",
       "    </tr>\n",
       "    <tr>\n",
       "      <th>4</th>\n",
       "      <td>08 12</td>\n",
       "      <td>0.0</td>\n",
       "      <td>2.0</td>\n",
       "    </tr>\n",
       "    <tr>\n",
       "      <th>5</th>\n",
       "      <td>08 18</td>\n",
       "      <td>0.0</td>\n",
       "      <td>2.0</td>\n",
       "    </tr>\n",
       "    <tr>\n",
       "      <th>6</th>\n",
       "      <td>09</td>\n",
       "      <td>1.0</td>\n",
       "      <td>4.0</td>\n",
       "    </tr>\n",
       "    <tr>\n",
       "      <th>7</th>\n",
       "      <td>09 08</td>\n",
       "      <td>0.0</td>\n",
       "      <td>2.0</td>\n",
       "    </tr>\n",
       "    <tr>\n",
       "      <th>8</th>\n",
       "      <td>09 14</td>\n",
       "      <td>0.0</td>\n",
       "      <td>2.0</td>\n",
       "    </tr>\n",
       "    <tr>\n",
       "      <th>9</th>\n",
       "      <td>10</td>\n",
       "      <td>15.0</td>\n",
       "      <td>45.0</td>\n",
       "    </tr>\n",
       "  </tbody>\n",
       "</table>\n",
       "</div>"
      ],
      "text/plain": [
       "   token   OFF   NOT\n",
       "0     00   0.0   2.0\n",
       "1    000   0.0   3.0\n",
       "2     05   1.0   1.0\n",
       "3     08   0.0   6.0\n",
       "4  08 12   0.0   2.0\n",
       "5  08 18   0.0   2.0\n",
       "6     09   1.0   4.0\n",
       "7  09 08   0.0   2.0\n",
       "8  09 14   0.0   2.0\n",
       "9     10  15.0  45.0"
      ]
     },
     "execution_count": 43,
     "metadata": {},
     "output_type": "execute_result"
    }
   ],
   "source": [
    "tokens = pd.DataFrame({'token':x_train_tokens, 'OFF':OFF_token_count, 'NOT':NOT_token_count})\n",
    "tokens.head(10)"
   ]
  },
  {
   "cell_type": "code",
   "execution_count": 44,
   "metadata": {},
   "outputs": [
    {
     "data": {
      "text/html": [
       "<div>\n",
       "<style scoped>\n",
       "    .dataframe tbody tr th:only-of-type {\n",
       "        vertical-align: middle;\n",
       "    }\n",
       "\n",
       "    .dataframe tbody tr th {\n",
       "        vertical-align: top;\n",
       "    }\n",
       "\n",
       "    .dataframe thead th {\n",
       "        text-align: right;\n",
       "    }\n",
       "</style>\n",
       "<table border=\"1\" class=\"dataframe\">\n",
       "  <thead>\n",
       "    <tr style=\"text-align: right;\">\n",
       "      <th></th>\n",
       "      <th>token</th>\n",
       "      <th>OFF</th>\n",
       "      <th>NOT</th>\n",
       "    </tr>\n",
       "  </thead>\n",
       "  <tbody>\n",
       "    <tr>\n",
       "      <th>5598</th>\n",
       "      <td>fun</td>\n",
       "      <td>18.0</td>\n",
       "      <td>29.0</td>\n",
       "    </tr>\n",
       "    <tr>\n",
       "      <th>4637</th>\n",
       "      <td>echo</td>\n",
       "      <td>1.0</td>\n",
       "      <td>1.0</td>\n",
       "    </tr>\n",
       "    <tr>\n",
       "      <th>11116</th>\n",
       "      <td>popped</td>\n",
       "      <td>3.0</td>\n",
       "      <td>0.0</td>\n",
       "    </tr>\n",
       "    <tr>\n",
       "      <th>2045</th>\n",
       "      <td>bts</td>\n",
       "      <td>0.0</td>\n",
       "      <td>4.0</td>\n",
       "    </tr>\n",
       "    <tr>\n",
       "      <th>3079</th>\n",
       "      <td>content</td>\n",
       "      <td>0.0</td>\n",
       "      <td>8.0</td>\n",
       "    </tr>\n",
       "    <tr>\n",
       "      <th>4879</th>\n",
       "      <td>european</td>\n",
       "      <td>3.0</td>\n",
       "      <td>6.0</td>\n",
       "    </tr>\n",
       "    <tr>\n",
       "      <th>1927</th>\n",
       "      <td>brain knows</td>\n",
       "      <td>2.0</td>\n",
       "      <td>0.0</td>\n",
       "    </tr>\n",
       "    <tr>\n",
       "      <th>7870</th>\n",
       "      <td>know moral</td>\n",
       "      <td>1.0</td>\n",
       "      <td>2.0</td>\n",
       "    </tr>\n",
       "    <tr>\n",
       "      <th>5108</th>\n",
       "      <td>family think</td>\n",
       "      <td>1.0</td>\n",
       "      <td>1.0</td>\n",
       "    </tr>\n",
       "    <tr>\n",
       "      <th>15574</th>\n",
       "      <td>user cost</td>\n",
       "      <td>0.0</td>\n",
       "      <td>2.0</td>\n",
       "    </tr>\n",
       "    <tr>\n",
       "      <th>16151</th>\n",
       "      <td>user nut</td>\n",
       "      <td>2.0</td>\n",
       "      <td>1.0</td>\n",
       "    </tr>\n",
       "    <tr>\n",
       "      <th>288</th>\n",
       "      <td>abusive</td>\n",
       "      <td>6.0</td>\n",
       "      <td>1.0</td>\n",
       "    </tr>\n",
       "    <tr>\n",
       "      <th>11167</th>\n",
       "      <td>potus</td>\n",
       "      <td>19.0</td>\n",
       "      <td>27.0</td>\n",
       "    </tr>\n",
       "    <tr>\n",
       "      <th>5174</th>\n",
       "      <td>faux</td>\n",
       "      <td>3.0</td>\n",
       "      <td>2.0</td>\n",
       "    </tr>\n",
       "    <tr>\n",
       "      <th>14843</th>\n",
       "      <td>trump getting</td>\n",
       "      <td>1.0</td>\n",
       "      <td>1.0</td>\n",
       "    </tr>\n",
       "  </tbody>\n",
       "</table>\n",
       "</div>"
      ],
      "text/plain": [
       "               token   OFF   NOT\n",
       "5598             fun  18.0  29.0\n",
       "4637            echo   1.0   1.0\n",
       "11116         popped   3.0   0.0\n",
       "2045             bts   0.0   4.0\n",
       "3079         content   0.0   8.0\n",
       "4879        european   3.0   6.0\n",
       "1927     brain knows   2.0   0.0\n",
       "7870      know moral   1.0   2.0\n",
       "5108    family think   1.0   1.0\n",
       "15574      user cost   0.0   2.0\n",
       "16151       user nut   2.0   1.0\n",
       "288          abusive   6.0   1.0\n",
       "11167          potus  19.0  27.0\n",
       "5174            faux   3.0   2.0\n",
       "14843  trump getting   1.0   1.0"
      ]
     },
     "execution_count": 44,
     "metadata": {},
     "output_type": "execute_result"
    }
   ],
   "source": [
    "tokens.sample(15, random_state=8)"
   ]
  },
  {
   "cell_type": "code",
   "execution_count": 45,
   "metadata": {},
   "outputs": [
    {
     "data": {
      "text/plain": [
       "array([8840., 4400.])"
      ]
     },
     "execution_count": 45,
     "metadata": {},
     "output_type": "execute_result"
    }
   ],
   "source": [
    "nb.class_count_"
   ]
  },
  {
   "cell_type": "code",
   "execution_count": 46,
   "metadata": {},
   "outputs": [],
   "source": [
    "tokens['OFF'] = tokens.OFF + 1\n",
    "tokens['NOT'] = tokens.NOT + 1"
   ]
  },
  {
   "cell_type": "code",
   "execution_count": 47,
   "metadata": {},
   "outputs": [
    {
     "data": {
      "text/html": [
       "<div>\n",
       "<style scoped>\n",
       "    .dataframe tbody tr th:only-of-type {\n",
       "        vertical-align: middle;\n",
       "    }\n",
       "\n",
       "    .dataframe tbody tr th {\n",
       "        vertical-align: top;\n",
       "    }\n",
       "\n",
       "    .dataframe thead th {\n",
       "        text-align: right;\n",
       "    }\n",
       "</style>\n",
       "<table border=\"1\" class=\"dataframe\">\n",
       "  <thead>\n",
       "    <tr style=\"text-align: right;\">\n",
       "      <th></th>\n",
       "      <th>token</th>\n",
       "      <th>OFF</th>\n",
       "      <th>NOT</th>\n",
       "    </tr>\n",
       "  </thead>\n",
       "  <tbody>\n",
       "    <tr>\n",
       "      <th>5598</th>\n",
       "      <td>fun</td>\n",
       "      <td>0.004318</td>\n",
       "      <td>0.003394</td>\n",
       "    </tr>\n",
       "    <tr>\n",
       "      <th>4637</th>\n",
       "      <td>echo</td>\n",
       "      <td>0.000455</td>\n",
       "      <td>0.000226</td>\n",
       "    </tr>\n",
       "    <tr>\n",
       "      <th>11116</th>\n",
       "      <td>popped</td>\n",
       "      <td>0.000909</td>\n",
       "      <td>0.000113</td>\n",
       "    </tr>\n",
       "    <tr>\n",
       "      <th>2045</th>\n",
       "      <td>bts</td>\n",
       "      <td>0.000227</td>\n",
       "      <td>0.000566</td>\n",
       "    </tr>\n",
       "    <tr>\n",
       "      <th>3079</th>\n",
       "      <td>content</td>\n",
       "      <td>0.000227</td>\n",
       "      <td>0.001018</td>\n",
       "    </tr>\n",
       "    <tr>\n",
       "      <th>4879</th>\n",
       "      <td>european</td>\n",
       "      <td>0.000909</td>\n",
       "      <td>0.000792</td>\n",
       "    </tr>\n",
       "    <tr>\n",
       "      <th>1927</th>\n",
       "      <td>brain knows</td>\n",
       "      <td>0.000682</td>\n",
       "      <td>0.000113</td>\n",
       "    </tr>\n",
       "    <tr>\n",
       "      <th>7870</th>\n",
       "      <td>know moral</td>\n",
       "      <td>0.000455</td>\n",
       "      <td>0.000339</td>\n",
       "    </tr>\n",
       "    <tr>\n",
       "      <th>5108</th>\n",
       "      <td>family think</td>\n",
       "      <td>0.000455</td>\n",
       "      <td>0.000226</td>\n",
       "    </tr>\n",
       "    <tr>\n",
       "      <th>15574</th>\n",
       "      <td>user cost</td>\n",
       "      <td>0.000227</td>\n",
       "      <td>0.000339</td>\n",
       "    </tr>\n",
       "    <tr>\n",
       "      <th>16151</th>\n",
       "      <td>user nut</td>\n",
       "      <td>0.000682</td>\n",
       "      <td>0.000226</td>\n",
       "    </tr>\n",
       "    <tr>\n",
       "      <th>288</th>\n",
       "      <td>abusive</td>\n",
       "      <td>0.001591</td>\n",
       "      <td>0.000226</td>\n",
       "    </tr>\n",
       "    <tr>\n",
       "      <th>11167</th>\n",
       "      <td>potus</td>\n",
       "      <td>0.004545</td>\n",
       "      <td>0.003167</td>\n",
       "    </tr>\n",
       "    <tr>\n",
       "      <th>5174</th>\n",
       "      <td>faux</td>\n",
       "      <td>0.000909</td>\n",
       "      <td>0.000339</td>\n",
       "    </tr>\n",
       "    <tr>\n",
       "      <th>14843</th>\n",
       "      <td>trump getting</td>\n",
       "      <td>0.000455</td>\n",
       "      <td>0.000226</td>\n",
       "    </tr>\n",
       "  </tbody>\n",
       "</table>\n",
       "</div>"
      ],
      "text/plain": [
       "               token       OFF       NOT\n",
       "5598             fun  0.004318  0.003394\n",
       "4637            echo  0.000455  0.000226\n",
       "11116         popped  0.000909  0.000113\n",
       "2045             bts  0.000227  0.000566\n",
       "3079         content  0.000227  0.001018\n",
       "4879        european  0.000909  0.000792\n",
       "1927     brain knows  0.000682  0.000113\n",
       "7870      know moral  0.000455  0.000339\n",
       "5108    family think  0.000455  0.000226\n",
       "15574      user cost  0.000227  0.000339\n",
       "16151       user nut  0.000682  0.000226\n",
       "288          abusive  0.001591  0.000226\n",
       "11167          potus  0.004545  0.003167\n",
       "5174            faux  0.000909  0.000339\n",
       "14843  trump getting  0.000455  0.000226"
      ]
     },
     "execution_count": 47,
     "metadata": {},
     "output_type": "execute_result"
    }
   ],
   "source": [
    "tokens['OFF'] = tokens.OFF /nb.class_count_[1]\n",
    "tokens['NOT'] = tokens.NOT / nb.class_count_[0]\n",
    "tokens.sample(15, random_state=8)"
   ]
  },
  {
   "cell_type": "code",
   "execution_count": 48,
   "metadata": {},
   "outputs": [
    {
     "data": {
      "text/html": [
       "<div>\n",
       "<style scoped>\n",
       "    .dataframe tbody tr th:only-of-type {\n",
       "        vertical-align: middle;\n",
       "    }\n",
       "\n",
       "    .dataframe tbody tr th {\n",
       "        vertical-align: top;\n",
       "    }\n",
       "\n",
       "    .dataframe thead th {\n",
       "        text-align: right;\n",
       "    }\n",
       "</style>\n",
       "<table border=\"1\" class=\"dataframe\">\n",
       "  <thead>\n",
       "    <tr style=\"text-align: right;\">\n",
       "      <th></th>\n",
       "      <th>token</th>\n",
       "      <th>OFF</th>\n",
       "      <th>NOT</th>\n",
       "      <th>OFF_ratio</th>\n",
       "    </tr>\n",
       "  </thead>\n",
       "  <tbody>\n",
       "    <tr>\n",
       "      <th>174</th>\n",
       "      <td>39</td>\n",
       "      <td>0.000227</td>\n",
       "      <td>0.000452</td>\n",
       "      <td>0.502273</td>\n",
       "    </tr>\n",
       "    <tr>\n",
       "      <th>10262</th>\n",
       "      <td>oh right</td>\n",
       "      <td>0.000455</td>\n",
       "      <td>0.000452</td>\n",
       "      <td>1.004545</td>\n",
       "    </tr>\n",
       "    <tr>\n",
       "      <th>7754</th>\n",
       "      <td>kidding</td>\n",
       "      <td>0.000682</td>\n",
       "      <td>0.001471</td>\n",
       "      <td>0.463636</td>\n",
       "    </tr>\n",
       "    <tr>\n",
       "      <th>5008</th>\n",
       "      <td>extra 2bn</td>\n",
       "      <td>0.000227</td>\n",
       "      <td>0.000339</td>\n",
       "      <td>0.669697</td>\n",
       "    </tr>\n",
       "    <tr>\n",
       "      <th>4689</th>\n",
       "      <td>electoral college</td>\n",
       "      <td>0.000455</td>\n",
       "      <td>0.000226</td>\n",
       "      <td>2.009091</td>\n",
       "    </tr>\n",
       "    <tr>\n",
       "      <th>12645</th>\n",
       "      <td>schooling</td>\n",
       "      <td>0.000455</td>\n",
       "      <td>0.000339</td>\n",
       "      <td>1.339394</td>\n",
       "    </tr>\n",
       "    <tr>\n",
       "      <th>5953</th>\n",
       "      <td>good new</td>\n",
       "      <td>0.000227</td>\n",
       "      <td>0.000339</td>\n",
       "      <td>0.669697</td>\n",
       "    </tr>\n",
       "    <tr>\n",
       "      <th>11598</th>\n",
       "      <td>pussy</td>\n",
       "      <td>0.005227</td>\n",
       "      <td>0.000566</td>\n",
       "      <td>9.241818</td>\n",
       "    </tr>\n",
       "    <tr>\n",
       "      <th>10836</th>\n",
       "      <td>perpetrated</td>\n",
       "      <td>0.000227</td>\n",
       "      <td>0.000339</td>\n",
       "      <td>0.669697</td>\n",
       "    </tr>\n",
       "    <tr>\n",
       "      <th>10321</th>\n",
       "      <td>ont</td>\n",
       "      <td>0.000227</td>\n",
       "      <td>0.000339</td>\n",
       "      <td>0.669697</td>\n",
       "    </tr>\n",
       "    <tr>\n",
       "      <th>12956</th>\n",
       "      <td>shit gotta</td>\n",
       "      <td>0.000682</td>\n",
       "      <td>0.000113</td>\n",
       "      <td>6.027273</td>\n",
       "    </tr>\n",
       "    <tr>\n",
       "      <th>4618</th>\n",
       "      <td>earn</td>\n",
       "      <td>0.000455</td>\n",
       "      <td>0.000339</td>\n",
       "      <td>1.339394</td>\n",
       "    </tr>\n",
       "    <tr>\n",
       "      <th>431</th>\n",
       "      <td>adult</td>\n",
       "      <td>0.001136</td>\n",
       "      <td>0.000905</td>\n",
       "      <td>1.255682</td>\n",
       "    </tr>\n",
       "    <tr>\n",
       "      <th>13064</th>\n",
       "      <td>sick amp</td>\n",
       "      <td>0.000455</td>\n",
       "      <td>0.000226</td>\n",
       "      <td>2.009091</td>\n",
       "    </tr>\n",
       "    <tr>\n",
       "      <th>13880</th>\n",
       "      <td>support stand</td>\n",
       "      <td>0.000455</td>\n",
       "      <td>0.000226</td>\n",
       "      <td>2.009091</td>\n",
       "    </tr>\n",
       "  </tbody>\n",
       "</table>\n",
       "</div>"
      ],
      "text/plain": [
       "                   token       OFF       NOT  OFF_ratio\n",
       "174                   39  0.000227  0.000452   0.502273\n",
       "10262           oh right  0.000455  0.000452   1.004545\n",
       "7754             kidding  0.000682  0.001471   0.463636\n",
       "5008           extra 2bn  0.000227  0.000339   0.669697\n",
       "4689   electoral college  0.000455  0.000226   2.009091\n",
       "12645          schooling  0.000455  0.000339   1.339394\n",
       "5953            good new  0.000227  0.000339   0.669697\n",
       "11598              pussy  0.005227  0.000566   9.241818\n",
       "10836        perpetrated  0.000227  0.000339   0.669697\n",
       "10321                ont  0.000227  0.000339   0.669697\n",
       "12956         shit gotta  0.000682  0.000113   6.027273\n",
       "4618                earn  0.000455  0.000339   1.339394\n",
       "431                adult  0.001136  0.000905   1.255682\n",
       "13064           sick amp  0.000455  0.000226   2.009091\n",
       "13880      support stand  0.000455  0.000226   2.009091"
      ]
     },
     "execution_count": 48,
     "metadata": {},
     "output_type": "execute_result"
    }
   ],
   "source": [
    "tokens['OFF_ratio'] = tokens.OFF /tokens.NOT\n",
    "tokens.sample(15, random_state=40)"
   ]
  },
  {
   "cell_type": "code",
   "execution_count": 64,
   "metadata": {},
   "outputs": [],
   "source": [
    "tokens_sorted = tokens.sort_values('OFF_ratio', ascending=True)"
   ]
  },
  {
   "cell_type": "code",
   "execution_count": 65,
   "metadata": {},
   "outputs": [
    {
     "data": {
      "text/html": [
       "<div>\n",
       "<style scoped>\n",
       "    .dataframe tbody tr th:only-of-type {\n",
       "        vertical-align: middle;\n",
       "    }\n",
       "\n",
       "    .dataframe tbody tr th {\n",
       "        vertical-align: top;\n",
       "    }\n",
       "\n",
       "    .dataframe thead th {\n",
       "        text-align: right;\n",
       "    }\n",
       "</style>\n",
       "<table border=\"1\" class=\"dataframe\">\n",
       "  <thead>\n",
       "    <tr style=\"text-align: right;\">\n",
       "      <th></th>\n",
       "      <th>token</th>\n",
       "      <th>OFF</th>\n",
       "      <th>NOT</th>\n",
       "      <th>OFF_ratio</th>\n",
       "    </tr>\n",
       "  </thead>\n",
       "  <tbody>\n",
       "    <tr>\n",
       "      <th>15401</th>\n",
       "      <td>user best</td>\n",
       "      <td>0.000227</td>\n",
       "      <td>0.004299</td>\n",
       "      <td>0.052871</td>\n",
       "    </tr>\n",
       "    <tr>\n",
       "      <th>3024</th>\n",
       "      <td>conservatives url</td>\n",
       "      <td>0.000227</td>\n",
       "      <td>0.002828</td>\n",
       "      <td>0.080364</td>\n",
       "    </tr>\n",
       "    <tr>\n",
       "      <th>2944</th>\n",
       "      <td>conservatives conservatives</td>\n",
       "      <td>0.000227</td>\n",
       "      <td>0.001810</td>\n",
       "      <td>0.125568</td>\n",
       "    </tr>\n",
       "    <tr>\n",
       "      <th>1975</th>\n",
       "      <td>brexit</td>\n",
       "      <td>0.000909</td>\n",
       "      <td>0.006787</td>\n",
       "      <td>0.133939</td>\n",
       "    </tr>\n",
       "    <tr>\n",
       "      <th>5701</th>\n",
       "      <td>ge2017</td>\n",
       "      <td>0.000227</td>\n",
       "      <td>0.001584</td>\n",
       "      <td>0.143506</td>\n",
       "    </tr>\n",
       "    <tr>\n",
       "      <th>6365</th>\n",
       "      <td>happy birthday</td>\n",
       "      <td>0.000227</td>\n",
       "      <td>0.001584</td>\n",
       "      <td>0.143506</td>\n",
       "    </tr>\n",
       "    <tr>\n",
       "      <th>15393</th>\n",
       "      <td>user beautiful</td>\n",
       "      <td>0.000455</td>\n",
       "      <td>0.003167</td>\n",
       "      <td>0.143506</td>\n",
       "    </tr>\n",
       "    <tr>\n",
       "      <th>5702</th>\n",
       "      <td>ge2017 conservatives</td>\n",
       "      <td>0.000227</td>\n",
       "      <td>0.001584</td>\n",
       "      <td>0.143506</td>\n",
       "    </tr>\n",
       "    <tr>\n",
       "      <th>7944</th>\n",
       "      <td>labour ge2017</td>\n",
       "      <td>0.000227</td>\n",
       "      <td>0.001584</td>\n",
       "      <td>0.143506</td>\n",
       "    </tr>\n",
       "    <tr>\n",
       "      <th>14041</th>\n",
       "      <td>talented</td>\n",
       "      <td>0.000227</td>\n",
       "      <td>0.001471</td>\n",
       "      <td>0.154545</td>\n",
       "    </tr>\n",
       "    <tr>\n",
       "      <th>1828</th>\n",
       "      <td>bob</td>\n",
       "      <td>0.000227</td>\n",
       "      <td>0.001471</td>\n",
       "      <td>0.154545</td>\n",
       "    </tr>\n",
       "    <tr>\n",
       "      <th>8227</th>\n",
       "      <td>lib</td>\n",
       "      <td>0.000227</td>\n",
       "      <td>0.001471</td>\n",
       "      <td>0.154545</td>\n",
       "    </tr>\n",
       "    <tr>\n",
       "      <th>10023</th>\n",
       "      <td>new york</td>\n",
       "      <td>0.000227</td>\n",
       "      <td>0.001471</td>\n",
       "      <td>0.154545</td>\n",
       "    </tr>\n",
       "    <tr>\n",
       "      <th>16875</th>\n",
       "      <td>vote user</td>\n",
       "      <td>0.000227</td>\n",
       "      <td>0.001471</td>\n",
       "      <td>0.154545</td>\n",
       "    </tr>\n",
       "    <tr>\n",
       "      <th>13454</th>\n",
       "      <td>spot</td>\n",
       "      <td>0.000227</td>\n",
       "      <td>0.001471</td>\n",
       "      <td>0.154545</td>\n",
       "    </tr>\n",
       "    <tr>\n",
       "      <th>10533</th>\n",
       "      <td>parties</td>\n",
       "      <td>0.000227</td>\n",
       "      <td>0.001471</td>\n",
       "      <td>0.154545</td>\n",
       "    </tr>\n",
       "    <tr>\n",
       "      <th>6612</th>\n",
       "      <td>high profile</td>\n",
       "      <td>0.000227</td>\n",
       "      <td>0.001471</td>\n",
       "      <td>0.154545</td>\n",
       "    </tr>\n",
       "    <tr>\n",
       "      <th>1247</th>\n",
       "      <td>available</td>\n",
       "      <td>0.000227</td>\n",
       "      <td>0.001471</td>\n",
       "      <td>0.154545</td>\n",
       "    </tr>\n",
       "    <tr>\n",
       "      <th>17691</th>\n",
       "      <td>york</td>\n",
       "      <td>0.000227</td>\n",
       "      <td>0.001471</td>\n",
       "      <td>0.154545</td>\n",
       "    </tr>\n",
       "    <tr>\n",
       "      <th>765</th>\n",
       "      <td>angel</td>\n",
       "      <td>0.000227</td>\n",
       "      <td>0.001471</td>\n",
       "      <td>0.154545</td>\n",
       "    </tr>\n",
       "    <tr>\n",
       "      <th>1560</th>\n",
       "      <td>bernier</td>\n",
       "      <td>0.000227</td>\n",
       "      <td>0.001471</td>\n",
       "      <td>0.154545</td>\n",
       "    </tr>\n",
       "    <tr>\n",
       "      <th>13436</th>\n",
       "      <td>split</td>\n",
       "      <td>0.000227</td>\n",
       "      <td>0.001357</td>\n",
       "      <td>0.167424</td>\n",
       "    </tr>\n",
       "    <tr>\n",
       "      <th>3479</th>\n",
       "      <td>cross</td>\n",
       "      <td>0.000227</td>\n",
       "      <td>0.001357</td>\n",
       "      <td>0.167424</td>\n",
       "    </tr>\n",
       "    <tr>\n",
       "      <th>7059</th>\n",
       "      <td>include</td>\n",
       "      <td>0.000227</td>\n",
       "      <td>0.001357</td>\n",
       "      <td>0.167424</td>\n",
       "    </tr>\n",
       "    <tr>\n",
       "      <th>11931</th>\n",
       "      <td>referendum</td>\n",
       "      <td>0.000227</td>\n",
       "      <td>0.001244</td>\n",
       "      <td>0.182645</td>\n",
       "    </tr>\n",
       "    <tr>\n",
       "      <th>6834</th>\n",
       "      <td>housing associations</td>\n",
       "      <td>0.000227</td>\n",
       "      <td>0.001244</td>\n",
       "      <td>0.182645</td>\n",
       "    </tr>\n",
       "    <tr>\n",
       "      <th>8957</th>\n",
       "      <td>lovely</td>\n",
       "      <td>0.000227</td>\n",
       "      <td>0.001244</td>\n",
       "      <td>0.182645</td>\n",
       "    </tr>\n",
       "    <tr>\n",
       "      <th>1745</th>\n",
       "      <td>blah</td>\n",
       "      <td>0.000227</td>\n",
       "      <td>0.001244</td>\n",
       "      <td>0.182645</td>\n",
       "    </tr>\n",
       "    <tr>\n",
       "      <th>135</th>\n",
       "      <td>25</td>\n",
       "      <td>0.000227</td>\n",
       "      <td>0.001244</td>\n",
       "      <td>0.182645</td>\n",
       "    </tr>\n",
       "    <tr>\n",
       "      <th>16607</th>\n",
       "      <td>user welcome</td>\n",
       "      <td>0.000455</td>\n",
       "      <td>0.002489</td>\n",
       "      <td>0.182645</td>\n",
       "    </tr>\n",
       "    <tr>\n",
       "      <th>11627</th>\n",
       "      <td>qarmy</td>\n",
       "      <td>0.000227</td>\n",
       "      <td>0.001244</td>\n",
       "      <td>0.182645</td>\n",
       "    </tr>\n",
       "    <tr>\n",
       "      <th>12708</th>\n",
       "      <td>seats</td>\n",
       "      <td>0.000227</td>\n",
       "      <td>0.001244</td>\n",
       "      <td>0.182645</td>\n",
       "    </tr>\n",
       "    <tr>\n",
       "      <th>3544</th>\n",
       "      <td>cuts</td>\n",
       "      <td>0.000227</td>\n",
       "      <td>0.001244</td>\n",
       "      <td>0.182645</td>\n",
       "    </tr>\n",
       "    <tr>\n",
       "      <th>16479</th>\n",
       "      <td>user thank</td>\n",
       "      <td>0.001591</td>\n",
       "      <td>0.008484</td>\n",
       "      <td>0.187515</td>\n",
       "    </tr>\n",
       "    <tr>\n",
       "      <th>428</th>\n",
       "      <td>adorable</td>\n",
       "      <td>0.000455</td>\n",
       "      <td>0.002376</td>\n",
       "      <td>0.191342</td>\n",
       "    </tr>\n",
       "    <tr>\n",
       "      <th>15859</th>\n",
       "      <td>user happy</td>\n",
       "      <td>0.000455</td>\n",
       "      <td>0.002376</td>\n",
       "      <td>0.191342</td>\n",
       "    </tr>\n",
       "    <tr>\n",
       "      <th>4933</th>\n",
       "      <td>excellent</td>\n",
       "      <td>0.000455</td>\n",
       "      <td>0.002376</td>\n",
       "      <td>0.191342</td>\n",
       "    </tr>\n",
       "    <tr>\n",
       "      <th>15250</th>\n",
       "      <td>url url</td>\n",
       "      <td>0.001818</td>\n",
       "      <td>0.009276</td>\n",
       "      <td>0.196009</td>\n",
       "    </tr>\n",
       "    <tr>\n",
       "      <th>17617</th>\n",
       "      <td>yay</td>\n",
       "      <td>0.000227</td>\n",
       "      <td>0.001131</td>\n",
       "      <td>0.200909</td>\n",
       "    </tr>\n",
       "    <tr>\n",
       "      <th>16445</th>\n",
       "      <td>user super</td>\n",
       "      <td>0.000227</td>\n",
       "      <td>0.001131</td>\n",
       "      <td>0.200909</td>\n",
       "    </tr>\n",
       "    <tr>\n",
       "      <th>7427</th>\n",
       "      <td>joined</td>\n",
       "      <td>0.000227</td>\n",
       "      <td>0.001131</td>\n",
       "      <td>0.200909</td>\n",
       "    </tr>\n",
       "    <tr>\n",
       "      <th>130</th>\n",
       "      <td>22</td>\n",
       "      <td>0.000227</td>\n",
       "      <td>0.001131</td>\n",
       "      <td>0.200909</td>\n",
       "    </tr>\n",
       "    <tr>\n",
       "      <th>13768</th>\n",
       "      <td>stunning</td>\n",
       "      <td>0.000227</td>\n",
       "      <td>0.001131</td>\n",
       "      <td>0.200909</td>\n",
       "    </tr>\n",
       "    <tr>\n",
       "      <th>3065</th>\n",
       "      <td>constitutionday</td>\n",
       "      <td>0.000227</td>\n",
       "      <td>0.001131</td>\n",
       "      <td>0.200909</td>\n",
       "    </tr>\n",
       "    <tr>\n",
       "      <th>572</th>\n",
       "      <td>allowing</td>\n",
       "      <td>0.000227</td>\n",
       "      <td>0.001131</td>\n",
       "      <td>0.200909</td>\n",
       "    </tr>\n",
       "    <tr>\n",
       "      <th>108</th>\n",
       "      <td>2015</td>\n",
       "      <td>0.000227</td>\n",
       "      <td>0.001131</td>\n",
       "      <td>0.200909</td>\n",
       "    </tr>\n",
       "    <tr>\n",
       "      <th>4456</th>\n",
       "      <td>donations</td>\n",
       "      <td>0.000227</td>\n",
       "      <td>0.001131</td>\n",
       "      <td>0.200909</td>\n",
       "    </tr>\n",
       "    <tr>\n",
       "      <th>4997</th>\n",
       "      <td>express</td>\n",
       "      <td>0.000227</td>\n",
       "      <td>0.001131</td>\n",
       "      <td>0.200909</td>\n",
       "    </tr>\n",
       "    <tr>\n",
       "      <th>14079</th>\n",
       "      <td>target list</td>\n",
       "      <td>0.000227</td>\n",
       "      <td>0.001131</td>\n",
       "      <td>0.200909</td>\n",
       "    </tr>\n",
       "    <tr>\n",
       "      <th>10242</th>\n",
       "      <td>officers</td>\n",
       "      <td>0.000227</td>\n",
       "      <td>0.001131</td>\n",
       "      <td>0.200909</td>\n",
       "    </tr>\n",
       "  </tbody>\n",
       "</table>\n",
       "</div>"
      ],
      "text/plain": [
       "                             token       OFF       NOT  OFF_ratio\n",
       "15401                    user best  0.000227  0.004299   0.052871\n",
       "3024             conservatives url  0.000227  0.002828   0.080364\n",
       "2944   conservatives conservatives  0.000227  0.001810   0.125568\n",
       "1975                        brexit  0.000909  0.006787   0.133939\n",
       "5701                        ge2017  0.000227  0.001584   0.143506\n",
       "6365                happy birthday  0.000227  0.001584   0.143506\n",
       "15393               user beautiful  0.000455  0.003167   0.143506\n",
       "5702          ge2017 conservatives  0.000227  0.001584   0.143506\n",
       "7944                 labour ge2017  0.000227  0.001584   0.143506\n",
       "14041                     talented  0.000227  0.001471   0.154545\n",
       "1828                           bob  0.000227  0.001471   0.154545\n",
       "8227                           lib  0.000227  0.001471   0.154545\n",
       "10023                     new york  0.000227  0.001471   0.154545\n",
       "16875                    vote user  0.000227  0.001471   0.154545\n",
       "13454                         spot  0.000227  0.001471   0.154545\n",
       "10533                      parties  0.000227  0.001471   0.154545\n",
       "6612                  high profile  0.000227  0.001471   0.154545\n",
       "1247                     available  0.000227  0.001471   0.154545\n",
       "17691                         york  0.000227  0.001471   0.154545\n",
       "765                          angel  0.000227  0.001471   0.154545\n",
       "1560                       bernier  0.000227  0.001471   0.154545\n",
       "13436                        split  0.000227  0.001357   0.167424\n",
       "3479                         cross  0.000227  0.001357   0.167424\n",
       "7059                       include  0.000227  0.001357   0.167424\n",
       "11931                   referendum  0.000227  0.001244   0.182645\n",
       "6834          housing associations  0.000227  0.001244   0.182645\n",
       "8957                        lovely  0.000227  0.001244   0.182645\n",
       "1745                          blah  0.000227  0.001244   0.182645\n",
       "135                             25  0.000227  0.001244   0.182645\n",
       "16607                 user welcome  0.000455  0.002489   0.182645\n",
       "11627                        qarmy  0.000227  0.001244   0.182645\n",
       "12708                        seats  0.000227  0.001244   0.182645\n",
       "3544                          cuts  0.000227  0.001244   0.182645\n",
       "16479                   user thank  0.001591  0.008484   0.187515\n",
       "428                       adorable  0.000455  0.002376   0.191342\n",
       "15859                   user happy  0.000455  0.002376   0.191342\n",
       "4933                     excellent  0.000455  0.002376   0.191342\n",
       "15250                      url url  0.001818  0.009276   0.196009\n",
       "17617                          yay  0.000227  0.001131   0.200909\n",
       "16445                   user super  0.000227  0.001131   0.200909\n",
       "7427                        joined  0.000227  0.001131   0.200909\n",
       "130                             22  0.000227  0.001131   0.200909\n",
       "13768                     stunning  0.000227  0.001131   0.200909\n",
       "3065               constitutionday  0.000227  0.001131   0.200909\n",
       "572                       allowing  0.000227  0.001131   0.200909\n",
       "108                           2015  0.000227  0.001131   0.200909\n",
       "4456                     donations  0.000227  0.001131   0.200909\n",
       "4997                       express  0.000227  0.001131   0.200909\n",
       "14079                  target list  0.000227  0.001131   0.200909\n",
       "10242                     officers  0.000227  0.001131   0.200909"
      ]
     },
     "execution_count": 65,
     "metadata": {},
     "output_type": "execute_result"
    }
   ],
   "source": [
    "tokens_sorted.head(50)"
   ]
  },
  {
   "cell_type": "code",
   "execution_count": 51,
   "metadata": {},
   "outputs": [],
   "source": [
    "%matplotlib notebook\n",
    "import matplotlib.pyplot as plt\n",
    "import matplotlib\n",
    "%matplotlib inline"
   ]
  },
  {
   "cell_type": "code",
   "execution_count": 52,
   "metadata": {},
   "outputs": [
    {
     "data": {
      "text/plain": [
       "<function matplotlib.pyplot.show(close=None, block=None)>"
      ]
     },
     "execution_count": 52,
     "metadata": {},
     "output_type": "execute_result"
    },
    {
     "data": {
      "image/png": "[encoded data removed]",
      "text/plain": [
       "<Figure size 432x288 with 1 Axes>"
      ]
     },
     "metadata": {
      "needs_background": "light"
     },
     "output_type": "display_data"
    }
   ],
   "source": [
    "plt.bar(['NB','LOG','SVM'],[nb_acc,log_acc,svm_acc])\n",
    "plt.ylim(0.7, 0.85)\n",
    "plt.show"
   ]
  },
  {
   "cell_type": "code",
   "execution_count": 53,
   "metadata": {},
   "outputs": [
    {
     "name": "stdout",
     "output_type": "stream",
     "text": [
      "CountVectorizer\t LogisticRegression\t MultinomialNB\t NOT_token_count\t OFF_token_count\t SGDClassifier\t f1_score\t labelsa\t log_acc\t \n",
      "logreg\t matplotlib\t metrics\t nb\t nb_acc\t obj_SVM\t obj_log\t obj_nb\t path\t \n",
      "pd\t plt\t precision_score\t recall_score\t sgdc\t svm_acc\t testset\t testseta\t tokens\t \n",
      "tokens_sorted\t train_test_split\t vect\t x\t x_test\t x_test_dtm\t x_train_dtm\t x_train_tokens\t y\t \n",
      "y_pred_class\t y_pred_prob\t y_test\t \n"
     ]
    }
   ],
   "source": [
    "%who"
   ]
  },
  {
   "cell_type": "code",
   "execution_count": 54,
   "metadata": {},
   "outputs": [
    {
     "data": {
      "text/plain": [
       "<TimeitResult : 2.63 ms ± 71.8 µs per loop (mean ± std. dev. of 7 runs, 100 loops each)>"
      ]
     },
     "execution_count": 54,
     "metadata": {},
     "output_type": "execute_result"
    }
   ],
   "source": [
    "obj_nb"
   ]
  },
  {
   "cell_type": "code",
   "execution_count": 55,
   "metadata": {},
   "outputs": [
    {
     "data": {
      "text/plain": [
       "<TimeitResult : 1.14 s ± 8.08 ms per loop (mean ± std. dev. of 7 runs, 1 loop each)>"
      ]
     },
     "execution_count": 55,
     "metadata": {},
     "output_type": "execute_result"
    }
   ],
   "source": [
    "obj_log"
   ]
  },
  {
   "cell_type": "code",
   "execution_count": 56,
   "metadata": {},
   "outputs": [
    {
     "data": {
      "text/plain": [
       "<TimeitResult : 59.8 ms ± 4.84 ms per loop (mean ± std. dev. of 7 runs, 10 loops each)>"
      ]
     },
     "execution_count": 56,
     "metadata": {},
     "output_type": "execute_result"
    }
   ],
   "source": [
    "obj_SVM"
   ]
  },
  {
   "cell_type": "code",
   "execution_count": 57,
   "metadata": {},
   "outputs": [],
   "source": [
    "from sklearn.ensemble import GradientBoostingClassifier, RandomForestClassifier"
   ]
  },
  {
   "cell_type": "code",
   "execution_count": 58,
   "metadata": {},
   "outputs": [],
   "source": [
    "GBC = GradientBoostingClassifier()\n",
    "rfc = RandomForestClassifier()"
   ]
  },
  {
   "cell_type": "code",
   "execution_count": 59,
   "metadata": {},
   "outputs": [
    {
     "name": "stdout",
     "output_type": "stream",
     "text": [
      "2.01 s ± 15.6 ms per loop (mean ± std. dev. of 7 runs, 1 loop each)\n"
     ]
    }
   ],
   "source": [
    "obj_GBC = %timeit -o GBC.fit(x_train_dtm, y)"
   ]
  },
  {
   "cell_type": "code",
   "execution_count": 60,
   "metadata": {},
   "outputs": [],
   "source": [
    "y_pred_class = GBC.predict(x_test_dtm)\n",
    "GBC_acc = metrics.accuracy_score(y_test,y_pred_class)"
   ]
  },
  {
   "cell_type": "code",
   "execution_count": 61,
   "metadata": {},
   "outputs": [
    {
     "name": "stdout",
     "output_type": "stream",
     "text": [
      "15.3 s ± 530 ms per loop (mean ± std. dev. of 7 runs, 1 loop each)\n"
     ]
    }
   ],
   "source": [
    "obj_rfc = %timeit -o rfc.fit(x_train_dtm, y)\n",
    "y_pred_class = rfc.predict(x_test_dtm)\n",
    "rfc_acc = metrics.accuracy_score(y_test,y_pred_class)\n",
    "rf_f1 = metrics.f1_score(y_test, y_pred_class)"
   ]
  },
  {
   "cell_type": "code",
   "execution_count": 62,
   "metadata": {},
   "outputs": [
    {
     "data": {
      "text/plain": [
       "0.5675675675675675"
      ]
     },
     "execution_count": 62,
     "metadata": {},
     "output_type": "execute_result"
    }
   ],
   "source": [
    "rf_f1"
   ]
  },
  {
   "cell_type": "code",
   "execution_count": 63,
   "metadata": {},
   "outputs": [
    {
     "data": {
      "image/png": "[encoded data removed]",
      "text/plain": [
       "<Figure size 432x288 with 1 Axes>"
      ]
     },
     "metadata": {
      "needs_background": "light"
     },
     "output_type": "display_data"
    }
   ],
   "source": [
    "fig, ax = plt.subplots()\n",
    "\n",
    "ax.bar(['NB','LOG','SVM','GBC','RFC'],[nb_acc,log_acc,svm_acc,GBC_acc,rfc_acc])\n",
    "\n",
    "ax.set_ylabel('% accuracy')\n",
    "ax.set_title('% accurcy for each classifier')\n",
    "plt.ylim(0.7, 0.85)\n",
    "\n",
    "plt.show()"
   ]
  },
  {
   "cell_type": "code",
   "execution_count": null,
   "metadata": {},
   "outputs": [],
   "source": []
  }
 ],
 "metadata": {
  "kernelspec": {
   "display_name": "Python 3",
   "language": "python",
   "name": "python3"
  },
  "language_info": {
   "codemirror_mode": {
    "name": "ipython",
    "version": 3
   },
   "file_extension": ".py",
   "mimetype": "text/x-python",
   "name": "python",
   "nbconvert_exporter": "python",
   "pygments_lexer": "ipython3",
   "version": "3.8.5"
  }
 },
 "nbformat": 4,
 "nbformat_minor": 4
}
